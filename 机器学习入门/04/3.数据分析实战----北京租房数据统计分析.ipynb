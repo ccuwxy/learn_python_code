{
 "cells": [
  {
   "cell_type": "code",
   "execution_count": 50,
   "metadata": {},
   "outputs": [],
   "source": [
    "import numpy as np\n",
    "import pandas as pd\n",
    "import matplotlib.pyplot as plt\n",
    "import seaborn as sns\n",
    "\n",
    "from pylab import mpl\n",
    "mpl.rcParams[\"font.sans-serif\"] = [\"SimHei\"]\n",
    "mpl.rcParams[\"axes.unicode_minus\"] = False"
   ]
  },
  {
   "cell_type": "markdown",
   "metadata": {},
   "source": [
    "# 获取数据"
   ]
  },
  {
   "cell_type": "code",
   "execution_count": 3,
   "metadata": {},
   "outputs": [
    {
     "data": {
      "text/html": [
       "<div>\n",
       "<style scoped>\n",
       "    .dataframe tbody tr th:only-of-type {\n",
       "        vertical-align: middle;\n",
       "    }\n",
       "\n",
       "    .dataframe tbody tr th {\n",
       "        vertical-align: top;\n",
       "    }\n",
       "\n",
       "    .dataframe thead th {\n",
       "        text-align: right;\n",
       "    }\n",
       "</style>\n",
       "<table border=\"1\" class=\"dataframe\">\n",
       "  <thead>\n",
       "    <tr style=\"text-align: right;\">\n",
       "      <th></th>\n",
       "      <th>区域</th>\n",
       "      <th>小区名称</th>\n",
       "      <th>户型</th>\n",
       "      <th>面积(㎡)</th>\n",
       "      <th>价格(元/月)</th>\n",
       "    </tr>\n",
       "  </thead>\n",
       "  <tbody>\n",
       "    <tr>\n",
       "      <th>0</th>\n",
       "      <td>东城</td>\n",
       "      <td>万国城MOMA</td>\n",
       "      <td>1室0厅</td>\n",
       "      <td>59.11平米</td>\n",
       "      <td>10000</td>\n",
       "    </tr>\n",
       "    <tr>\n",
       "      <th>1</th>\n",
       "      <td>东城</td>\n",
       "      <td>北官厅胡同2号院</td>\n",
       "      <td>3室0厅</td>\n",
       "      <td>56.92平米</td>\n",
       "      <td>6000</td>\n",
       "    </tr>\n",
       "    <tr>\n",
       "      <th>2</th>\n",
       "      <td>东城</td>\n",
       "      <td>和平里三区</td>\n",
       "      <td>1室1厅</td>\n",
       "      <td>40.57平米</td>\n",
       "      <td>6900</td>\n",
       "    </tr>\n",
       "    <tr>\n",
       "      <th>3</th>\n",
       "      <td>东城</td>\n",
       "      <td>菊儿胡同</td>\n",
       "      <td>2室1厅</td>\n",
       "      <td>57.09平米</td>\n",
       "      <td>8000</td>\n",
       "    </tr>\n",
       "    <tr>\n",
       "      <th>4</th>\n",
       "      <td>东城</td>\n",
       "      <td>交道口北二条35号院</td>\n",
       "      <td>1室1厅</td>\n",
       "      <td>42.67平米</td>\n",
       "      <td>5500</td>\n",
       "    </tr>\n",
       "  </tbody>\n",
       "</table>\n",
       "</div>"
      ],
      "text/plain": [
       "   区域        小区名称    户型    面积(㎡)  价格(元/月)\n",
       "0  东城     万国城MOMA  1室0厅  59.11平米    10000\n",
       "1  东城    北官厅胡同2号院  3室0厅  56.92平米     6000\n",
       "2  东城       和平里三区  1室1厅  40.57平米     6900\n",
       "3  东城        菊儿胡同  2室1厅  57.09平米     8000\n",
       "4  东城  交道口北二条35号院  1室1厅  42.67平米     5500"
      ]
     },
     "execution_count": 3,
     "metadata": {},
     "output_type": "execute_result"
    }
   ],
   "source": [
    "file_data = pd.read_csv(\"./data/链家北京租房数据.csv\")\n",
    "file_data.head()"
   ]
  },
  {
   "cell_type": "code",
   "execution_count": 4,
   "metadata": {},
   "outputs": [
    {
     "data": {
      "text/plain": [
       "(8223, 5)"
      ]
     },
     "execution_count": 4,
     "metadata": {},
     "output_type": "execute_result"
    }
   ],
   "source": [
    "file_data.shape"
   ]
  },
  {
   "cell_type": "code",
   "execution_count": 5,
   "metadata": {},
   "outputs": [
    {
     "name": "stdout",
     "output_type": "stream",
     "text": [
      "<class 'pandas.core.frame.DataFrame'>\n",
      "RangeIndex: 8223 entries, 0 to 8222\n",
      "Data columns (total 5 columns):\n",
      " #   Column   Non-Null Count  Dtype \n",
      "---  ------   --------------  ----- \n",
      " 0   区域       8223 non-null   object\n",
      " 1   小区名称     8223 non-null   object\n",
      " 2   户型       8223 non-null   object\n",
      " 3   面积(㎡)    8223 non-null   object\n",
      " 4   价格(元/月)  8223 non-null   int64 \n",
      "dtypes: int64(1), object(4)\n",
      "memory usage: 321.3+ KB\n"
     ]
    }
   ],
   "source": [
    "file_data.info()"
   ]
  },
  {
   "cell_type": "code",
   "execution_count": 6,
   "metadata": {},
   "outputs": [
    {
     "data": {
      "text/html": [
       "<div>\n",
       "<style scoped>\n",
       "    .dataframe tbody tr th:only-of-type {\n",
       "        vertical-align: middle;\n",
       "    }\n",
       "\n",
       "    .dataframe tbody tr th {\n",
       "        vertical-align: top;\n",
       "    }\n",
       "\n",
       "    .dataframe thead th {\n",
       "        text-align: right;\n",
       "    }\n",
       "</style>\n",
       "<table border=\"1\" class=\"dataframe\">\n",
       "  <thead>\n",
       "    <tr style=\"text-align: right;\">\n",
       "      <th></th>\n",
       "      <th>价格(元/月)</th>\n",
       "    </tr>\n",
       "  </thead>\n",
       "  <tbody>\n",
       "    <tr>\n",
       "      <th>count</th>\n",
       "      <td>8223.000000</td>\n",
       "    </tr>\n",
       "    <tr>\n",
       "      <th>mean</th>\n",
       "      <td>9512.297823</td>\n",
       "    </tr>\n",
       "    <tr>\n",
       "      <th>std</th>\n",
       "      <td>9186.752612</td>\n",
       "    </tr>\n",
       "    <tr>\n",
       "      <th>min</th>\n",
       "      <td>566.000000</td>\n",
       "    </tr>\n",
       "    <tr>\n",
       "      <th>25%</th>\n",
       "      <td>4800.000000</td>\n",
       "    </tr>\n",
       "    <tr>\n",
       "      <th>50%</th>\n",
       "      <td>6800.000000</td>\n",
       "    </tr>\n",
       "    <tr>\n",
       "      <th>75%</th>\n",
       "      <td>10000.000000</td>\n",
       "    </tr>\n",
       "    <tr>\n",
       "      <th>max</th>\n",
       "      <td>150000.000000</td>\n",
       "    </tr>\n",
       "  </tbody>\n",
       "</table>\n",
       "</div>"
      ],
      "text/plain": [
       "             价格(元/月)\n",
       "count    8223.000000\n",
       "mean     9512.297823\n",
       "std      9186.752612\n",
       "min       566.000000\n",
       "25%      4800.000000\n",
       "50%      6800.000000\n",
       "75%     10000.000000\n",
       "max    150000.000000"
      ]
     },
     "execution_count": 6,
     "metadata": {},
     "output_type": "execute_result"
    }
   ],
   "source": [
    "file_data.describe()"
   ]
  },
  {
   "cell_type": "markdown",
   "metadata": {},
   "source": [
    "# 数据基本处理"
   ]
  },
  {
   "cell_type": "markdown",
   "metadata": {},
   "source": [
    "## 重复值和空值处理"
   ]
  },
  {
   "cell_type": "code",
   "execution_count": 8,
   "metadata": {},
   "outputs": [],
   "source": [
    "# 检测重复值\n",
    "# file_data.duplicated()\n",
    "file_data = file_data.drop_duplicates()"
   ]
  },
  {
   "cell_type": "code",
   "execution_count": 9,
   "metadata": {},
   "outputs": [
    {
     "data": {
      "text/plain": [
       "(5773, 5)"
      ]
     },
     "execution_count": 9,
     "metadata": {},
     "output_type": "execute_result"
    }
   ],
   "source": [
    "file_data.shape"
   ]
  },
  {
   "cell_type": "code",
   "execution_count": 10,
   "metadata": {},
   "outputs": [],
   "source": [
    "# 空值处理\n",
    "file_data = file_data.dropna()"
   ]
  },
  {
   "cell_type": "code",
   "execution_count": 11,
   "metadata": {},
   "outputs": [
    {
     "data": {
      "text/plain": [
       "(5773, 5)"
      ]
     },
     "execution_count": 11,
     "metadata": {},
     "output_type": "execute_result"
    }
   ],
   "source": [
    "file_data.shape"
   ]
  },
  {
   "cell_type": "markdown",
   "metadata": {},
   "source": [
    "## 数据类型转换\n",
    "### 面积数据类型转换"
   ]
  },
  {
   "cell_type": "code",
   "execution_count": 13,
   "metadata": {},
   "outputs": [
    {
     "data": {
      "text/html": [
       "<div>\n",
       "<style scoped>\n",
       "    .dataframe tbody tr th:only-of-type {\n",
       "        vertical-align: middle;\n",
       "    }\n",
       "\n",
       "    .dataframe tbody tr th {\n",
       "        vertical-align: top;\n",
       "    }\n",
       "\n",
       "    .dataframe thead th {\n",
       "        text-align: right;\n",
       "    }\n",
       "</style>\n",
       "<table border=\"1\" class=\"dataframe\">\n",
       "  <thead>\n",
       "    <tr style=\"text-align: right;\">\n",
       "      <th></th>\n",
       "      <th>区域</th>\n",
       "      <th>小区名称</th>\n",
       "      <th>户型</th>\n",
       "      <th>面积(㎡)</th>\n",
       "      <th>价格(元/月)</th>\n",
       "    </tr>\n",
       "  </thead>\n",
       "  <tbody>\n",
       "    <tr>\n",
       "      <th>0</th>\n",
       "      <td>东城</td>\n",
       "      <td>万国城MOMA</td>\n",
       "      <td>1室0厅</td>\n",
       "      <td>59.11平米</td>\n",
       "      <td>10000</td>\n",
       "    </tr>\n",
       "    <tr>\n",
       "      <th>1</th>\n",
       "      <td>东城</td>\n",
       "      <td>北官厅胡同2号院</td>\n",
       "      <td>3室0厅</td>\n",
       "      <td>56.92平米</td>\n",
       "      <td>6000</td>\n",
       "    </tr>\n",
       "    <tr>\n",
       "      <th>2</th>\n",
       "      <td>东城</td>\n",
       "      <td>和平里三区</td>\n",
       "      <td>1室1厅</td>\n",
       "      <td>40.57平米</td>\n",
       "      <td>6900</td>\n",
       "    </tr>\n",
       "    <tr>\n",
       "      <th>3</th>\n",
       "      <td>东城</td>\n",
       "      <td>菊儿胡同</td>\n",
       "      <td>2室1厅</td>\n",
       "      <td>57.09平米</td>\n",
       "      <td>8000</td>\n",
       "    </tr>\n",
       "    <tr>\n",
       "      <th>4</th>\n",
       "      <td>东城</td>\n",
       "      <td>交道口北二条35号院</td>\n",
       "      <td>1室1厅</td>\n",
       "      <td>42.67平米</td>\n",
       "      <td>5500</td>\n",
       "    </tr>\n",
       "  </tbody>\n",
       "</table>\n",
       "</div>"
      ],
      "text/plain": [
       "   区域        小区名称    户型    面积(㎡)  价格(元/月)\n",
       "0  东城     万国城MOMA  1室0厅  59.11平米    10000\n",
       "1  东城    北官厅胡同2号院  3室0厅  56.92平米     6000\n",
       "2  东城       和平里三区  1室1厅  40.57平米     6900\n",
       "3  东城        菊儿胡同  2室1厅  57.09平米     8000\n",
       "4  东城  交道口北二条35号院  1室1厅  42.67平米     5500"
      ]
     },
     "execution_count": 13,
     "metadata": {},
     "output_type": "execute_result"
    }
   ],
   "source": [
    "file_data.head()"
   ]
  },
  {
   "cell_type": "code",
   "execution_count": 17,
   "metadata": {},
   "outputs": [
    {
     "data": {
      "text/plain": [
       "'59.11'"
      ]
     },
     "execution_count": 17,
     "metadata": {},
     "output_type": "execute_result"
    }
   ],
   "source": [
    "# 单个值实现\n",
    "file_data[\"面积(㎡)\"].values[0][:-2]"
   ]
  },
  {
   "cell_type": "code",
   "execution_count": 20,
   "metadata": {},
   "outputs": [],
   "source": [
    "# 创建一个空数组\n",
    "data_new = np.array([])\n",
    "data_area = file_data[\"面积(㎡)\"].values\n",
    "for i in data_area:\n",
    "    data_new = np.append(data_new, np.array(i[:-2]))"
   ]
  },
  {
   "cell_type": "code",
   "execution_count": 19,
   "metadata": {},
   "outputs": [
    {
     "data": {
      "text/plain": [
       "array(['59.11平米', '56.92平米', '40.57平米', ..., '92.41平米', '71.81平米',\n",
       "       '35.43平米'], dtype=object)"
      ]
     },
     "execution_count": 19,
     "metadata": {},
     "output_type": "execute_result"
    }
   ],
   "source": [
    "data_area"
   ]
  },
  {
   "cell_type": "code",
   "execution_count": 21,
   "metadata": {},
   "outputs": [
    {
     "data": {
      "text/plain": [
       "array(['59.11', '56.92', '40.57', ..., '92.41', '71.81', '35.43'],\n",
       "      dtype='<U32')"
      ]
     },
     "execution_count": 21,
     "metadata": {},
     "output_type": "execute_result"
    }
   ],
   "source": [
    "data_new"
   ]
  },
  {
   "cell_type": "code",
   "execution_count": 22,
   "metadata": {},
   "outputs": [],
   "source": [
    "# 转换data_new中的数据类型\n",
    "data_new = data_new.astype(np.float64)"
   ]
  },
  {
   "cell_type": "code",
   "execution_count": 23,
   "metadata": {},
   "outputs": [
    {
     "data": {
      "text/plain": [
       "array([59.11, 56.92, 40.57, ..., 92.41, 71.81, 35.43])"
      ]
     },
     "execution_count": 23,
     "metadata": {},
     "output_type": "execute_result"
    }
   ],
   "source": [
    "data_new"
   ]
  },
  {
   "cell_type": "code",
   "execution_count": 24,
   "metadata": {},
   "outputs": [],
   "source": [
    "file_data.loc[:,\"面积(㎡)\" ] = data_new"
   ]
  },
  {
   "cell_type": "code",
   "execution_count": 25,
   "metadata": {},
   "outputs": [
    {
     "data": {
      "text/html": [
       "<div>\n",
       "<style scoped>\n",
       "    .dataframe tbody tr th:only-of-type {\n",
       "        vertical-align: middle;\n",
       "    }\n",
       "\n",
       "    .dataframe tbody tr th {\n",
       "        vertical-align: top;\n",
       "    }\n",
       "\n",
       "    .dataframe thead th {\n",
       "        text-align: right;\n",
       "    }\n",
       "</style>\n",
       "<table border=\"1\" class=\"dataframe\">\n",
       "  <thead>\n",
       "    <tr style=\"text-align: right;\">\n",
       "      <th></th>\n",
       "      <th>区域</th>\n",
       "      <th>小区名称</th>\n",
       "      <th>户型</th>\n",
       "      <th>面积(㎡)</th>\n",
       "      <th>价格(元/月)</th>\n",
       "    </tr>\n",
       "  </thead>\n",
       "  <tbody>\n",
       "    <tr>\n",
       "      <th>0</th>\n",
       "      <td>东城</td>\n",
       "      <td>万国城MOMA</td>\n",
       "      <td>1室0厅</td>\n",
       "      <td>59.11</td>\n",
       "      <td>10000</td>\n",
       "    </tr>\n",
       "    <tr>\n",
       "      <th>1</th>\n",
       "      <td>东城</td>\n",
       "      <td>北官厅胡同2号院</td>\n",
       "      <td>3室0厅</td>\n",
       "      <td>56.92</td>\n",
       "      <td>6000</td>\n",
       "    </tr>\n",
       "    <tr>\n",
       "      <th>2</th>\n",
       "      <td>东城</td>\n",
       "      <td>和平里三区</td>\n",
       "      <td>1室1厅</td>\n",
       "      <td>40.57</td>\n",
       "      <td>6900</td>\n",
       "    </tr>\n",
       "    <tr>\n",
       "      <th>3</th>\n",
       "      <td>东城</td>\n",
       "      <td>菊儿胡同</td>\n",
       "      <td>2室1厅</td>\n",
       "      <td>57.09</td>\n",
       "      <td>8000</td>\n",
       "    </tr>\n",
       "    <tr>\n",
       "      <th>4</th>\n",
       "      <td>东城</td>\n",
       "      <td>交道口北二条35号院</td>\n",
       "      <td>1室1厅</td>\n",
       "      <td>42.67</td>\n",
       "      <td>5500</td>\n",
       "    </tr>\n",
       "  </tbody>\n",
       "</table>\n",
       "</div>"
      ],
      "text/plain": [
       "   区域        小区名称    户型  面积(㎡)  价格(元/月)\n",
       "0  东城     万国城MOMA  1室0厅  59.11    10000\n",
       "1  东城    北官厅胡同2号院  3室0厅  56.92     6000\n",
       "2  东城       和平里三区  1室1厅  40.57     6900\n",
       "3  东城        菊儿胡同  2室1厅  57.09     8000\n",
       "4  东城  交道口北二条35号院  1室1厅  42.67     5500"
      ]
     },
     "execution_count": 25,
     "metadata": {},
     "output_type": "execute_result"
    }
   ],
   "source": [
    "file_data.head()"
   ]
  },
  {
   "cell_type": "markdown",
   "metadata": {},
   "source": [
    "### 户型表达方式替换"
   ]
  },
  {
   "cell_type": "code",
   "execution_count": 26,
   "metadata": {},
   "outputs": [
    {
     "data": {
      "text/html": [
       "<div>\n",
       "<style scoped>\n",
       "    .dataframe tbody tr th:only-of-type {\n",
       "        vertical-align: middle;\n",
       "    }\n",
       "\n",
       "    .dataframe tbody tr th {\n",
       "        vertical-align: top;\n",
       "    }\n",
       "\n",
       "    .dataframe thead th {\n",
       "        text-align: right;\n",
       "    }\n",
       "</style>\n",
       "<table border=\"1\" class=\"dataframe\">\n",
       "  <thead>\n",
       "    <tr style=\"text-align: right;\">\n",
       "      <th></th>\n",
       "      <th>区域</th>\n",
       "      <th>小区名称</th>\n",
       "      <th>户型</th>\n",
       "      <th>面积(㎡)</th>\n",
       "      <th>价格(元/月)</th>\n",
       "    </tr>\n",
       "  </thead>\n",
       "  <tbody>\n",
       "    <tr>\n",
       "      <th>0</th>\n",
       "      <td>东城</td>\n",
       "      <td>万国城MOMA</td>\n",
       "      <td>1室0厅</td>\n",
       "      <td>59.11</td>\n",
       "      <td>10000</td>\n",
       "    </tr>\n",
       "    <tr>\n",
       "      <th>1</th>\n",
       "      <td>东城</td>\n",
       "      <td>北官厅胡同2号院</td>\n",
       "      <td>3室0厅</td>\n",
       "      <td>56.92</td>\n",
       "      <td>6000</td>\n",
       "    </tr>\n",
       "    <tr>\n",
       "      <th>2</th>\n",
       "      <td>东城</td>\n",
       "      <td>和平里三区</td>\n",
       "      <td>1室1厅</td>\n",
       "      <td>40.57</td>\n",
       "      <td>6900</td>\n",
       "    </tr>\n",
       "    <tr>\n",
       "      <th>3</th>\n",
       "      <td>东城</td>\n",
       "      <td>菊儿胡同</td>\n",
       "      <td>2室1厅</td>\n",
       "      <td>57.09</td>\n",
       "      <td>8000</td>\n",
       "    </tr>\n",
       "    <tr>\n",
       "      <th>4</th>\n",
       "      <td>东城</td>\n",
       "      <td>交道口北二条35号院</td>\n",
       "      <td>1室1厅</td>\n",
       "      <td>42.67</td>\n",
       "      <td>5500</td>\n",
       "    </tr>\n",
       "    <tr>\n",
       "      <th>...</th>\n",
       "      <td>...</td>\n",
       "      <td>...</td>\n",
       "      <td>...</td>\n",
       "      <td>...</td>\n",
       "      <td>...</td>\n",
       "    </tr>\n",
       "    <tr>\n",
       "      <th>8218</th>\n",
       "      <td>顺义</td>\n",
       "      <td>怡馨家园</td>\n",
       "      <td>3室1厅</td>\n",
       "      <td>114.03</td>\n",
       "      <td>5500</td>\n",
       "    </tr>\n",
       "    <tr>\n",
       "      <th>8219</th>\n",
       "      <td>顺义</td>\n",
       "      <td>旭辉26街区</td>\n",
       "      <td>4房间2卫</td>\n",
       "      <td>59.00</td>\n",
       "      <td>5000</td>\n",
       "    </tr>\n",
       "    <tr>\n",
       "      <th>8220</th>\n",
       "      <td>顺义</td>\n",
       "      <td>前进花园玉兰苑</td>\n",
       "      <td>3室1厅</td>\n",
       "      <td>92.41</td>\n",
       "      <td>5800</td>\n",
       "    </tr>\n",
       "    <tr>\n",
       "      <th>8221</th>\n",
       "      <td>顺义</td>\n",
       "      <td>双裕小区</td>\n",
       "      <td>2室1厅</td>\n",
       "      <td>71.81</td>\n",
       "      <td>4200</td>\n",
       "    </tr>\n",
       "    <tr>\n",
       "      <th>8222</th>\n",
       "      <td>顺义</td>\n",
       "      <td>樱花园二区</td>\n",
       "      <td>1室1厅</td>\n",
       "      <td>35.43</td>\n",
       "      <td>2700</td>\n",
       "    </tr>\n",
       "  </tbody>\n",
       "</table>\n",
       "<p>5773 rows × 5 columns</p>\n",
       "</div>"
      ],
      "text/plain": [
       "      区域        小区名称     户型   面积(㎡)  价格(元/月)\n",
       "0     东城     万国城MOMA   1室0厅   59.11    10000\n",
       "1     东城    北官厅胡同2号院   3室0厅   56.92     6000\n",
       "2     东城       和平里三区   1室1厅   40.57     6900\n",
       "3     东城        菊儿胡同   2室1厅   57.09     8000\n",
       "4     东城  交道口北二条35号院   1室1厅   42.67     5500\n",
       "...   ..         ...    ...     ...      ...\n",
       "8218  顺义        怡馨家园   3室1厅  114.03     5500\n",
       "8219  顺义      旭辉26街区  4房间2卫   59.00     5000\n",
       "8220  顺义     前进花园玉兰苑   3室1厅   92.41     5800\n",
       "8221  顺义        双裕小区   2室1厅   71.81     4200\n",
       "8222  顺义       樱花园二区   1室1厅   35.43     2700\n",
       "\n",
       "[5773 rows x 5 columns]"
      ]
     },
     "execution_count": 26,
     "metadata": {},
     "output_type": "execute_result"
    }
   ],
   "source": [
    "file_data"
   ]
  },
  {
   "cell_type": "code",
   "execution_count": 29,
   "metadata": {},
   "outputs": [],
   "source": [
    "house_data = file_data[\"户型\"]\n",
    "temp_list = []\n",
    "\n",
    "for i in house_data:\n",
    "    new_info = i.replace(\"房间\",\"室\")\n",
    "    temp_list.append(new_info)"
   ]
  },
  {
   "cell_type": "code",
   "execution_count": 31,
   "metadata": {},
   "outputs": [],
   "source": [
    "file_data.loc[:,\"户型\"] = temp_list"
   ]
  },
  {
   "cell_type": "code",
   "execution_count": 32,
   "metadata": {},
   "outputs": [
    {
     "data": {
      "text/html": [
       "<div>\n",
       "<style scoped>\n",
       "    .dataframe tbody tr th:only-of-type {\n",
       "        vertical-align: middle;\n",
       "    }\n",
       "\n",
       "    .dataframe tbody tr th {\n",
       "        vertical-align: top;\n",
       "    }\n",
       "\n",
       "    .dataframe thead th {\n",
       "        text-align: right;\n",
       "    }\n",
       "</style>\n",
       "<table border=\"1\" class=\"dataframe\">\n",
       "  <thead>\n",
       "    <tr style=\"text-align: right;\">\n",
       "      <th></th>\n",
       "      <th>区域</th>\n",
       "      <th>小区名称</th>\n",
       "      <th>户型</th>\n",
       "      <th>面积(㎡)</th>\n",
       "      <th>价格(元/月)</th>\n",
       "    </tr>\n",
       "  </thead>\n",
       "  <tbody>\n",
       "    <tr>\n",
       "      <th>0</th>\n",
       "      <td>东城</td>\n",
       "      <td>万国城MOMA</td>\n",
       "      <td>1室0厅</td>\n",
       "      <td>59.11</td>\n",
       "      <td>10000</td>\n",
       "    </tr>\n",
       "    <tr>\n",
       "      <th>1</th>\n",
       "      <td>东城</td>\n",
       "      <td>北官厅胡同2号院</td>\n",
       "      <td>3室0厅</td>\n",
       "      <td>56.92</td>\n",
       "      <td>6000</td>\n",
       "    </tr>\n",
       "    <tr>\n",
       "      <th>2</th>\n",
       "      <td>东城</td>\n",
       "      <td>和平里三区</td>\n",
       "      <td>1室1厅</td>\n",
       "      <td>40.57</td>\n",
       "      <td>6900</td>\n",
       "    </tr>\n",
       "    <tr>\n",
       "      <th>3</th>\n",
       "      <td>东城</td>\n",
       "      <td>菊儿胡同</td>\n",
       "      <td>2室1厅</td>\n",
       "      <td>57.09</td>\n",
       "      <td>8000</td>\n",
       "    </tr>\n",
       "    <tr>\n",
       "      <th>4</th>\n",
       "      <td>东城</td>\n",
       "      <td>交道口北二条35号院</td>\n",
       "      <td>1室1厅</td>\n",
       "      <td>42.67</td>\n",
       "      <td>5500</td>\n",
       "    </tr>\n",
       "    <tr>\n",
       "      <th>...</th>\n",
       "      <td>...</td>\n",
       "      <td>...</td>\n",
       "      <td>...</td>\n",
       "      <td>...</td>\n",
       "      <td>...</td>\n",
       "    </tr>\n",
       "    <tr>\n",
       "      <th>8218</th>\n",
       "      <td>顺义</td>\n",
       "      <td>怡馨家园</td>\n",
       "      <td>3室1厅</td>\n",
       "      <td>114.03</td>\n",
       "      <td>5500</td>\n",
       "    </tr>\n",
       "    <tr>\n",
       "      <th>8219</th>\n",
       "      <td>顺义</td>\n",
       "      <td>旭辉26街区</td>\n",
       "      <td>4室2卫</td>\n",
       "      <td>59.00</td>\n",
       "      <td>5000</td>\n",
       "    </tr>\n",
       "    <tr>\n",
       "      <th>8220</th>\n",
       "      <td>顺义</td>\n",
       "      <td>前进花园玉兰苑</td>\n",
       "      <td>3室1厅</td>\n",
       "      <td>92.41</td>\n",
       "      <td>5800</td>\n",
       "    </tr>\n",
       "    <tr>\n",
       "      <th>8221</th>\n",
       "      <td>顺义</td>\n",
       "      <td>双裕小区</td>\n",
       "      <td>2室1厅</td>\n",
       "      <td>71.81</td>\n",
       "      <td>4200</td>\n",
       "    </tr>\n",
       "    <tr>\n",
       "      <th>8222</th>\n",
       "      <td>顺义</td>\n",
       "      <td>樱花园二区</td>\n",
       "      <td>1室1厅</td>\n",
       "      <td>35.43</td>\n",
       "      <td>2700</td>\n",
       "    </tr>\n",
       "  </tbody>\n",
       "</table>\n",
       "<p>5773 rows × 5 columns</p>\n",
       "</div>"
      ],
      "text/plain": [
       "      区域        小区名称    户型   面积(㎡)  价格(元/月)\n",
       "0     东城     万国城MOMA  1室0厅   59.11    10000\n",
       "1     东城    北官厅胡同2号院  3室0厅   56.92     6000\n",
       "2     东城       和平里三区  1室1厅   40.57     6900\n",
       "3     东城        菊儿胡同  2室1厅   57.09     8000\n",
       "4     东城  交道口北二条35号院  1室1厅   42.67     5500\n",
       "...   ..         ...   ...     ...      ...\n",
       "8218  顺义        怡馨家园  3室1厅  114.03     5500\n",
       "8219  顺义      旭辉26街区  4室2卫   59.00     5000\n",
       "8220  顺义     前进花园玉兰苑  3室1厅   92.41     5800\n",
       "8221  顺义        双裕小区  2室1厅   71.81     4200\n",
       "8222  顺义       樱花园二区  1室1厅   35.43     2700\n",
       "\n",
       "[5773 rows x 5 columns]"
      ]
     },
     "execution_count": 32,
     "metadata": {},
     "output_type": "execute_result"
    }
   ],
   "source": [
    "file_data"
   ]
  },
  {
   "cell_type": "markdown",
   "metadata": {},
   "source": [
    "# 图表分析\n",
    "## 房源数量、位置分布分析"
   ]
  },
  {
   "cell_type": "code",
   "execution_count": 33,
   "metadata": {},
   "outputs": [],
   "source": [
    "new_df = pd.DataFrame({\"区域\":file_data[\"区域\"].unique(), \"数量\":[0]*13})"
   ]
  },
  {
   "cell_type": "code",
   "execution_count": 34,
   "metadata": {},
   "outputs": [
    {
     "data": {
      "text/html": [
       "<div>\n",
       "<style scoped>\n",
       "    .dataframe tbody tr th:only-of-type {\n",
       "        vertical-align: middle;\n",
       "    }\n",
       "\n",
       "    .dataframe tbody tr th {\n",
       "        vertical-align: top;\n",
       "    }\n",
       "\n",
       "    .dataframe thead th {\n",
       "        text-align: right;\n",
       "    }\n",
       "</style>\n",
       "<table border=\"1\" class=\"dataframe\">\n",
       "  <thead>\n",
       "    <tr style=\"text-align: right;\">\n",
       "      <th></th>\n",
       "      <th>区域</th>\n",
       "      <th>数量</th>\n",
       "    </tr>\n",
       "  </thead>\n",
       "  <tbody>\n",
       "    <tr>\n",
       "      <th>0</th>\n",
       "      <td>东城</td>\n",
       "      <td>0</td>\n",
       "    </tr>\n",
       "    <tr>\n",
       "      <th>1</th>\n",
       "      <td>丰台</td>\n",
       "      <td>0</td>\n",
       "    </tr>\n",
       "    <tr>\n",
       "      <th>2</th>\n",
       "      <td>亦庄开发区</td>\n",
       "      <td>0</td>\n",
       "    </tr>\n",
       "    <tr>\n",
       "      <th>3</th>\n",
       "      <td>大兴</td>\n",
       "      <td>0</td>\n",
       "    </tr>\n",
       "    <tr>\n",
       "      <th>4</th>\n",
       "      <td>房山</td>\n",
       "      <td>0</td>\n",
       "    </tr>\n",
       "    <tr>\n",
       "      <th>5</th>\n",
       "      <td>昌平</td>\n",
       "      <td>0</td>\n",
       "    </tr>\n",
       "    <tr>\n",
       "      <th>6</th>\n",
       "      <td>朝阳</td>\n",
       "      <td>0</td>\n",
       "    </tr>\n",
       "    <tr>\n",
       "      <th>7</th>\n",
       "      <td>海淀</td>\n",
       "      <td>0</td>\n",
       "    </tr>\n",
       "    <tr>\n",
       "      <th>8</th>\n",
       "      <td>石景山</td>\n",
       "      <td>0</td>\n",
       "    </tr>\n",
       "    <tr>\n",
       "      <th>9</th>\n",
       "      <td>西城</td>\n",
       "      <td>0</td>\n",
       "    </tr>\n",
       "    <tr>\n",
       "      <th>10</th>\n",
       "      <td>通州</td>\n",
       "      <td>0</td>\n",
       "    </tr>\n",
       "    <tr>\n",
       "      <th>11</th>\n",
       "      <td>门头沟</td>\n",
       "      <td>0</td>\n",
       "    </tr>\n",
       "    <tr>\n",
       "      <th>12</th>\n",
       "      <td>顺义</td>\n",
       "      <td>0</td>\n",
       "    </tr>\n",
       "  </tbody>\n",
       "</table>\n",
       "</div>"
      ],
      "text/plain": [
       "       区域  数量\n",
       "0      东城   0\n",
       "1      丰台   0\n",
       "2   亦庄开发区   0\n",
       "3      大兴   0\n",
       "4      房山   0\n",
       "5      昌平   0\n",
       "6      朝阳   0\n",
       "7      海淀   0\n",
       "8     石景山   0\n",
       "9      西城   0\n",
       "10     通州   0\n",
       "11    门头沟   0\n",
       "12     顺义   0"
      ]
     },
     "execution_count": 34,
     "metadata": {},
     "output_type": "execute_result"
    }
   ],
   "source": [
    "new_df"
   ]
  },
  {
   "cell_type": "code",
   "execution_count": 36,
   "metadata": {},
   "outputs": [],
   "source": [
    "# 获取每个区域房源数量\n",
    "area_count = file_data.groupby(by=\"区域\").count()"
   ]
  },
  {
   "cell_type": "code",
   "execution_count": 37,
   "metadata": {},
   "outputs": [],
   "source": [
    "new_df[\"数量\"] = area_count.values"
   ]
  },
  {
   "cell_type": "code",
   "execution_count": 39,
   "metadata": {},
   "outputs": [
    {
     "data": {
      "text/html": [
       "<div>\n",
       "<style scoped>\n",
       "    .dataframe tbody tr th:only-of-type {\n",
       "        vertical-align: middle;\n",
       "    }\n",
       "\n",
       "    .dataframe tbody tr th {\n",
       "        vertical-align: top;\n",
       "    }\n",
       "\n",
       "    .dataframe thead th {\n",
       "        text-align: right;\n",
       "    }\n",
       "</style>\n",
       "<table border=\"1\" class=\"dataframe\">\n",
       "  <thead>\n",
       "    <tr style=\"text-align: right;\">\n",
       "      <th></th>\n",
       "      <th>区域</th>\n",
       "      <th>数量</th>\n",
       "    </tr>\n",
       "  </thead>\n",
       "  <tbody>\n",
       "    <tr>\n",
       "      <th>6</th>\n",
       "      <td>朝阳</td>\n",
       "      <td>1597</td>\n",
       "    </tr>\n",
       "    <tr>\n",
       "      <th>7</th>\n",
       "      <td>海淀</td>\n",
       "      <td>605</td>\n",
       "    </tr>\n",
       "    <tr>\n",
       "      <th>1</th>\n",
       "      <td>丰台</td>\n",
       "      <td>577</td>\n",
       "    </tr>\n",
       "    <tr>\n",
       "      <th>10</th>\n",
       "      <td>通州</td>\n",
       "      <td>477</td>\n",
       "    </tr>\n",
       "    <tr>\n",
       "      <th>9</th>\n",
       "      <td>西城</td>\n",
       "      <td>442</td>\n",
       "    </tr>\n",
       "    <tr>\n",
       "      <th>3</th>\n",
       "      <td>大兴</td>\n",
       "      <td>362</td>\n",
       "    </tr>\n",
       "    <tr>\n",
       "      <th>5</th>\n",
       "      <td>昌平</td>\n",
       "      <td>347</td>\n",
       "    </tr>\n",
       "    <tr>\n",
       "      <th>12</th>\n",
       "      <td>顺义</td>\n",
       "      <td>297</td>\n",
       "    </tr>\n",
       "    <tr>\n",
       "      <th>11</th>\n",
       "      <td>门头沟</td>\n",
       "      <td>285</td>\n",
       "    </tr>\n",
       "    <tr>\n",
       "      <th>0</th>\n",
       "      <td>东城</td>\n",
       "      <td>282</td>\n",
       "    </tr>\n",
       "    <tr>\n",
       "      <th>4</th>\n",
       "      <td>房山</td>\n",
       "      <td>180</td>\n",
       "    </tr>\n",
       "    <tr>\n",
       "      <th>8</th>\n",
       "      <td>石景山</td>\n",
       "      <td>175</td>\n",
       "    </tr>\n",
       "    <tr>\n",
       "      <th>2</th>\n",
       "      <td>亦庄开发区</td>\n",
       "      <td>147</td>\n",
       "    </tr>\n",
       "  </tbody>\n",
       "</table>\n",
       "</div>"
      ],
      "text/plain": [
       "       区域    数量\n",
       "6      朝阳  1597\n",
       "7      海淀   605\n",
       "1      丰台   577\n",
       "10     通州   477\n",
       "9      西城   442\n",
       "3      大兴   362\n",
       "5      昌平   347\n",
       "12     顺义   297\n",
       "11    门头沟   285\n",
       "0      东城   282\n",
       "4      房山   180\n",
       "8     石景山   175\n",
       "2   亦庄开发区   147"
      ]
     },
     "execution_count": 39,
     "metadata": {},
     "output_type": "execute_result"
    }
   ],
   "source": [
    "new_df.sort_values(by=\"数量\", ascending=False)"
   ]
  },
  {
   "cell_type": "markdown",
   "metadata": {},
   "source": [
    "## 户型数量分析"
   ]
  },
  {
   "cell_type": "code",
   "execution_count": 40,
   "metadata": {},
   "outputs": [
    {
     "data": {
      "text/plain": [
       "0       1室0厅\n",
       "1       3室0厅\n",
       "2       1室1厅\n",
       "3       2室1厅\n",
       "4       1室1厅\n",
       "        ... \n",
       "8218    3室1厅\n",
       "8219    4室2卫\n",
       "8220    3室1厅\n",
       "8221    2室1厅\n",
       "8222    1室1厅\n",
       "Name: 户型, Length: 5773, dtype: object"
      ]
     },
     "execution_count": 40,
     "metadata": {},
     "output_type": "execute_result"
    }
   ],
   "source": [
    "house_data = file_data[\"户型\"]\n",
    "house_data"
   ]
  },
  {
   "cell_type": "code",
   "execution_count": 41,
   "metadata": {},
   "outputs": [],
   "source": [
    "def all_house(arr):\n",
    "    key = np.unique(arr)\n",
    "    result={}\n",
    "    \n",
    "    for k in key:\n",
    "        mask = (arr == k)\n",
    "        arr_new =  arr[mask]\n",
    "        v = arr_new.size\n",
    "        result[k] = v\n",
    "    \n",
    "    return result\n",
    "        "
   ]
  },
  {
   "cell_type": "code",
   "execution_count": 43,
   "metadata": {},
   "outputs": [],
   "source": [
    "house_info = all_house(house_data)"
   ]
  },
  {
   "cell_type": "code",
   "execution_count": 44,
   "metadata": {},
   "outputs": [],
   "source": [
    "# 去掉统计数量较少的值\n",
    "house_data = dict((key, value)for key, value in house_info.items() if value > 50)"
   ]
  },
  {
   "cell_type": "code",
   "execution_count": 46,
   "metadata": {},
   "outputs": [],
   "source": [
    "show_houses = pd.DataFrame({\"户型\": [x for x in house_data.keys()],\n",
    "              \"数量\": [x for x in house_data.values()]})"
   ]
  },
  {
   "cell_type": "code",
   "execution_count": 47,
   "metadata": {},
   "outputs": [
    {
     "data": {
      "text/html": [
       "<div>\n",
       "<style scoped>\n",
       "    .dataframe tbody tr th:only-of-type {\n",
       "        vertical-align: middle;\n",
       "    }\n",
       "\n",
       "    .dataframe tbody tr th {\n",
       "        vertical-align: top;\n",
       "    }\n",
       "\n",
       "    .dataframe thead th {\n",
       "        text-align: right;\n",
       "    }\n",
       "</style>\n",
       "<table border=\"1\" class=\"dataframe\">\n",
       "  <thead>\n",
       "    <tr style=\"text-align: right;\">\n",
       "      <th></th>\n",
       "      <th>户型</th>\n",
       "      <th>数量</th>\n",
       "    </tr>\n",
       "  </thead>\n",
       "  <tbody>\n",
       "    <tr>\n",
       "      <th>0</th>\n",
       "      <td>1室0厅</td>\n",
       "      <td>244</td>\n",
       "    </tr>\n",
       "    <tr>\n",
       "      <th>1</th>\n",
       "      <td>1室1卫</td>\n",
       "      <td>126</td>\n",
       "    </tr>\n",
       "    <tr>\n",
       "      <th>2</th>\n",
       "      <td>1室1厅</td>\n",
       "      <td>844</td>\n",
       "    </tr>\n",
       "    <tr>\n",
       "      <th>3</th>\n",
       "      <td>2室1卫</td>\n",
       "      <td>120</td>\n",
       "    </tr>\n",
       "    <tr>\n",
       "      <th>4</th>\n",
       "      <td>2室1厅</td>\n",
       "      <td>2249</td>\n",
       "    </tr>\n",
       "    <tr>\n",
       "      <th>5</th>\n",
       "      <td>2室2厅</td>\n",
       "      <td>265</td>\n",
       "    </tr>\n",
       "    <tr>\n",
       "      <th>6</th>\n",
       "      <td>3室1卫</td>\n",
       "      <td>92</td>\n",
       "    </tr>\n",
       "    <tr>\n",
       "      <th>7</th>\n",
       "      <td>3室1厅</td>\n",
       "      <td>766</td>\n",
       "    </tr>\n",
       "    <tr>\n",
       "      <th>8</th>\n",
       "      <td>3室2厅</td>\n",
       "      <td>489</td>\n",
       "    </tr>\n",
       "    <tr>\n",
       "      <th>9</th>\n",
       "      <td>4室1厅</td>\n",
       "      <td>58</td>\n",
       "    </tr>\n",
       "    <tr>\n",
       "      <th>10</th>\n",
       "      <td>4室2厅</td>\n",
       "      <td>191</td>\n",
       "    </tr>\n",
       "  </tbody>\n",
       "</table>\n",
       "</div>"
      ],
      "text/plain": [
       "      户型    数量\n",
       "0   1室0厅   244\n",
       "1   1室1卫   126\n",
       "2   1室1厅   844\n",
       "3   2室1卫   120\n",
       "4   2室1厅  2249\n",
       "5   2室2厅   265\n",
       "6   3室1卫    92\n",
       "7   3室1厅   766\n",
       "8   3室2厅   489\n",
       "9   4室1厅    58\n",
       "10  4室2厅   191"
      ]
     },
     "execution_count": 47,
     "metadata": {},
     "output_type": "execute_result"
    }
   ],
   "source": [
    "show_houses"
   ]
  },
  {
   "cell_type": "code",
   "execution_count": 57,
   "metadata": {},
   "outputs": [
    {
     "data": {
      "image/png": "[encoded data removed]",
      "text/plain": [
       "<Figure size 432x288 with 1 Axes>"
      ]
     },
     "metadata": {
      "needs_background": "light"
     },
     "output_type": "display_data"
    }
   ],
   "source": [
    "# 图形展示房屋类型\n",
    "\n",
    "house_type = show_houses[\"户型\"]\n",
    "house_type_num = show_houses[\"数量\"]\n",
    "\n",
    "plt.barh(range(11), house_type_num)\n",
    "\n",
    "plt.yticks(range(11), house_type)\n",
    "plt.xlim(0, 2500)\n",
    "\n",
    "plt.title(\"北京市各区域租房数量统计\")\n",
    "plt.xlabel(\"数量\")\n",
    "plt.ylabel(\"类型\")\n",
    "\n",
    "# 给每个条上面添加具体数字\n",
    "for x, y in enumerate(house_type_num):\n",
    "    # print(x,y)\n",
    "    plt.text(y+1, x-0.2, \"%s\" % y)\n",
    "\n",
    "plt.show()"
   ]
  },
  {
   "cell_type": "markdown",
   "metadata": {},
   "source": [
    "## 平均租金分析"
   ]
  },
  {
   "cell_type": "code",
   "execution_count": 58,
   "metadata": {},
   "outputs": [],
   "source": [
    "df_all = pd.DataFrame({\"区域\": file_data[\"区域\"].unique(),\n",
    "             \"房租总金额\": [0]*13,\n",
    "             \"总面积\":[0]*13})"
   ]
  },
  {
   "cell_type": "code",
   "execution_count": 59,
   "metadata": {},
   "outputs": [
    {
     "data": {
      "text/html": [
       "<div>\n",
       "<style scoped>\n",
       "    .dataframe tbody tr th:only-of-type {\n",
       "        vertical-align: middle;\n",
       "    }\n",
       "\n",
       "    .dataframe tbody tr th {\n",
       "        vertical-align: top;\n",
       "    }\n",
       "\n",
       "    .dataframe thead th {\n",
       "        text-align: right;\n",
       "    }\n",
       "</style>\n",
       "<table border=\"1\" class=\"dataframe\">\n",
       "  <thead>\n",
       "    <tr style=\"text-align: right;\">\n",
       "      <th></th>\n",
       "      <th>区域</th>\n",
       "      <th>房租总金额</th>\n",
       "      <th>总面积</th>\n",
       "    </tr>\n",
       "  </thead>\n",
       "  <tbody>\n",
       "    <tr>\n",
       "      <th>0</th>\n",
       "      <td>东城</td>\n",
       "      <td>0</td>\n",
       "      <td>0</td>\n",
       "    </tr>\n",
       "    <tr>\n",
       "      <th>1</th>\n",
       "      <td>丰台</td>\n",
       "      <td>0</td>\n",
       "      <td>0</td>\n",
       "    </tr>\n",
       "    <tr>\n",
       "      <th>2</th>\n",
       "      <td>亦庄开发区</td>\n",
       "      <td>0</td>\n",
       "      <td>0</td>\n",
       "    </tr>\n",
       "    <tr>\n",
       "      <th>3</th>\n",
       "      <td>大兴</td>\n",
       "      <td>0</td>\n",
       "      <td>0</td>\n",
       "    </tr>\n",
       "    <tr>\n",
       "      <th>4</th>\n",
       "      <td>房山</td>\n",
       "      <td>0</td>\n",
       "      <td>0</td>\n",
       "    </tr>\n",
       "    <tr>\n",
       "      <th>5</th>\n",
       "      <td>昌平</td>\n",
       "      <td>0</td>\n",
       "      <td>0</td>\n",
       "    </tr>\n",
       "    <tr>\n",
       "      <th>6</th>\n",
       "      <td>朝阳</td>\n",
       "      <td>0</td>\n",
       "      <td>0</td>\n",
       "    </tr>\n",
       "    <tr>\n",
       "      <th>7</th>\n",
       "      <td>海淀</td>\n",
       "      <td>0</td>\n",
       "      <td>0</td>\n",
       "    </tr>\n",
       "    <tr>\n",
       "      <th>8</th>\n",
       "      <td>石景山</td>\n",
       "      <td>0</td>\n",
       "      <td>0</td>\n",
       "    </tr>\n",
       "    <tr>\n",
       "      <th>9</th>\n",
       "      <td>西城</td>\n",
       "      <td>0</td>\n",
       "      <td>0</td>\n",
       "    </tr>\n",
       "    <tr>\n",
       "      <th>10</th>\n",
       "      <td>通州</td>\n",
       "      <td>0</td>\n",
       "      <td>0</td>\n",
       "    </tr>\n",
       "    <tr>\n",
       "      <th>11</th>\n",
       "      <td>门头沟</td>\n",
       "      <td>0</td>\n",
       "      <td>0</td>\n",
       "    </tr>\n",
       "    <tr>\n",
       "      <th>12</th>\n",
       "      <td>顺义</td>\n",
       "      <td>0</td>\n",
       "      <td>0</td>\n",
       "    </tr>\n",
       "  </tbody>\n",
       "</table>\n",
       "</div>"
      ],
      "text/plain": [
       "       区域  房租总金额  总面积\n",
       "0      东城      0    0\n",
       "1      丰台      0    0\n",
       "2   亦庄开发区      0    0\n",
       "3      大兴      0    0\n",
       "4      房山      0    0\n",
       "5      昌平      0    0\n",
       "6      朝阳      0    0\n",
       "7      海淀      0    0\n",
       "8     石景山      0    0\n",
       "9      西城      0    0\n",
       "10     通州      0    0\n",
       "11    门头沟      0    0\n",
       "12     顺义      0    0"
      ]
     },
     "execution_count": 59,
     "metadata": {},
     "output_type": "execute_result"
    }
   ],
   "source": [
    "df_all"
   ]
  },
  {
   "cell_type": "code",
   "execution_count": 60,
   "metadata": {},
   "outputs": [
    {
     "data": {
      "text/html": [
       "<div>\n",
       "<style scoped>\n",
       "    .dataframe tbody tr th:only-of-type {\n",
       "        vertical-align: middle;\n",
       "    }\n",
       "\n",
       "    .dataframe tbody tr th {\n",
       "        vertical-align: top;\n",
       "    }\n",
       "\n",
       "    .dataframe thead th {\n",
       "        text-align: right;\n",
       "    }\n",
       "</style>\n",
       "<table border=\"1\" class=\"dataframe\">\n",
       "  <thead>\n",
       "    <tr style=\"text-align: right;\">\n",
       "      <th></th>\n",
       "      <th>区域</th>\n",
       "      <th>小区名称</th>\n",
       "      <th>户型</th>\n",
       "      <th>面积(㎡)</th>\n",
       "      <th>价格(元/月)</th>\n",
       "    </tr>\n",
       "  </thead>\n",
       "  <tbody>\n",
       "    <tr>\n",
       "      <th>0</th>\n",
       "      <td>东城</td>\n",
       "      <td>万国城MOMA</td>\n",
       "      <td>1室0厅</td>\n",
       "      <td>59.11</td>\n",
       "      <td>10000</td>\n",
       "    </tr>\n",
       "    <tr>\n",
       "      <th>1</th>\n",
       "      <td>东城</td>\n",
       "      <td>北官厅胡同2号院</td>\n",
       "      <td>3室0厅</td>\n",
       "      <td>56.92</td>\n",
       "      <td>6000</td>\n",
       "    </tr>\n",
       "    <tr>\n",
       "      <th>2</th>\n",
       "      <td>东城</td>\n",
       "      <td>和平里三区</td>\n",
       "      <td>1室1厅</td>\n",
       "      <td>40.57</td>\n",
       "      <td>6900</td>\n",
       "    </tr>\n",
       "    <tr>\n",
       "      <th>3</th>\n",
       "      <td>东城</td>\n",
       "      <td>菊儿胡同</td>\n",
       "      <td>2室1厅</td>\n",
       "      <td>57.09</td>\n",
       "      <td>8000</td>\n",
       "    </tr>\n",
       "    <tr>\n",
       "      <th>4</th>\n",
       "      <td>东城</td>\n",
       "      <td>交道口北二条35号院</td>\n",
       "      <td>1室1厅</td>\n",
       "      <td>42.67</td>\n",
       "      <td>5500</td>\n",
       "    </tr>\n",
       "  </tbody>\n",
       "</table>\n",
       "</div>"
      ],
      "text/plain": [
       "   区域        小区名称    户型  面积(㎡)  价格(元/月)\n",
       "0  东城     万国城MOMA  1室0厅  59.11    10000\n",
       "1  东城    北官厅胡同2号院  3室0厅  56.92     6000\n",
       "2  东城       和平里三区  1室1厅  40.57     6900\n",
       "3  东城        菊儿胡同  2室1厅  57.09     8000\n",
       "4  东城  交道口北二条35号院  1室1厅  42.67     5500"
      ]
     },
     "execution_count": 60,
     "metadata": {},
     "output_type": "execute_result"
    }
   ],
   "source": [
    "file_data.head()"
   ]
  },
  {
   "cell_type": "code",
   "execution_count": 66,
   "metadata": {},
   "outputs": [],
   "source": [
    "sum_price = file_data[\"价格(元/月)\"].groupby(file_data[\"区域\"]).sum()\n",
    "sum_area = file_data[\"面积(㎡)\"].groupby(file_data[\"区域\"]).sum()"
   ]
  },
  {
   "cell_type": "code",
   "execution_count": 69,
   "metadata": {},
   "outputs": [],
   "source": [
    "df_all[\"房租总金额\"] = sum_price.values\n",
    "df_all[\"总面积\"] = sum_area.values"
   ]
  },
  {
   "cell_type": "code",
   "execution_count": 70,
   "metadata": {},
   "outputs": [
    {
     "data": {
      "text/html": [
       "<div>\n",
       "<style scoped>\n",
       "    .dataframe tbody tr th:only-of-type {\n",
       "        vertical-align: middle;\n",
       "    }\n",
       "\n",
       "    .dataframe tbody tr th {\n",
       "        vertical-align: top;\n",
       "    }\n",
       "\n",
       "    .dataframe thead th {\n",
       "        text-align: right;\n",
       "    }\n",
       "</style>\n",
       "<table border=\"1\" class=\"dataframe\">\n",
       "  <thead>\n",
       "    <tr style=\"text-align: right;\">\n",
       "      <th></th>\n",
       "      <th>区域</th>\n",
       "      <th>房租总金额</th>\n",
       "      <th>总面积</th>\n",
       "    </tr>\n",
       "  </thead>\n",
       "  <tbody>\n",
       "    <tr>\n",
       "      <th>0</th>\n",
       "      <td>东城</td>\n",
       "      <td>3945550</td>\n",
       "      <td>27353.99</td>\n",
       "    </tr>\n",
       "    <tr>\n",
       "      <th>1</th>\n",
       "      <td>丰台</td>\n",
       "      <td>4404893</td>\n",
       "      <td>50922.79</td>\n",
       "    </tr>\n",
       "    <tr>\n",
       "      <th>2</th>\n",
       "      <td>亦庄开发区</td>\n",
       "      <td>1318400</td>\n",
       "      <td>15995.53</td>\n",
       "    </tr>\n",
       "    <tr>\n",
       "      <th>3</th>\n",
       "      <td>大兴</td>\n",
       "      <td>2286950</td>\n",
       "      <td>35884.15</td>\n",
       "    </tr>\n",
       "    <tr>\n",
       "      <th>4</th>\n",
       "      <td>房山</td>\n",
       "      <td>726750</td>\n",
       "      <td>15275.41</td>\n",
       "    </tr>\n",
       "    <tr>\n",
       "      <th>5</th>\n",
       "      <td>昌平</td>\n",
       "      <td>2521515</td>\n",
       "      <td>35972.92</td>\n",
       "    </tr>\n",
       "    <tr>\n",
       "      <th>6</th>\n",
       "      <td>朝阳</td>\n",
       "      <td>20281396</td>\n",
       "      <td>166921.72</td>\n",
       "    </tr>\n",
       "    <tr>\n",
       "      <th>7</th>\n",
       "      <td>海淀</td>\n",
       "      <td>7279350</td>\n",
       "      <td>57210.39</td>\n",
       "    </tr>\n",
       "    <tr>\n",
       "      <th>8</th>\n",
       "      <td>石景山</td>\n",
       "      <td>1156500</td>\n",
       "      <td>13956.67</td>\n",
       "    </tr>\n",
       "    <tr>\n",
       "      <th>9</th>\n",
       "      <td>西城</td>\n",
       "      <td>5636975</td>\n",
       "      <td>37141.64</td>\n",
       "    </tr>\n",
       "    <tr>\n",
       "      <th>10</th>\n",
       "      <td>通州</td>\n",
       "      <td>2719600</td>\n",
       "      <td>46625.23</td>\n",
       "    </tr>\n",
       "    <tr>\n",
       "      <th>11</th>\n",
       "      <td>门头沟</td>\n",
       "      <td>1048300</td>\n",
       "      <td>20258.20</td>\n",
       "    </tr>\n",
       "    <tr>\n",
       "      <th>12</th>\n",
       "      <td>顺义</td>\n",
       "      <td>2190900</td>\n",
       "      <td>33668.97</td>\n",
       "    </tr>\n",
       "  </tbody>\n",
       "</table>\n",
       "</div>"
      ],
      "text/plain": [
       "       区域     房租总金额        总面积\n",
       "0      东城   3945550   27353.99\n",
       "1      丰台   4404893   50922.79\n",
       "2   亦庄开发区   1318400   15995.53\n",
       "3      大兴   2286950   35884.15\n",
       "4      房山    726750   15275.41\n",
       "5      昌平   2521515   35972.92\n",
       "6      朝阳  20281396  166921.72\n",
       "7      海淀   7279350   57210.39\n",
       "8     石景山   1156500   13956.67\n",
       "9      西城   5636975   37141.64\n",
       "10     通州   2719600   46625.23\n",
       "11    门头沟   1048300   20258.20\n",
       "12     顺义   2190900   33668.97"
      ]
     },
     "execution_count": 70,
     "metadata": {},
     "output_type": "execute_result"
    }
   ],
   "source": [
    "df_all"
   ]
  },
  {
   "cell_type": "code",
   "execution_count": 73,
   "metadata": {},
   "outputs": [],
   "source": [
    "# 计算各个区域每平方米的房租\n",
    "df_all[\"每平米租金（元）\"] = round(df_all[\"房租总金额\"] / df_all[\"总面积\"], 2)"
   ]
  },
  {
   "cell_type": "code",
   "execution_count": 74,
   "metadata": {},
   "outputs": [
    {
     "data": {
      "text/html": [
       "<div>\n",
       "<style scoped>\n",
       "    .dataframe tbody tr th:only-of-type {\n",
       "        vertical-align: middle;\n",
       "    }\n",
       "\n",
       "    .dataframe tbody tr th {\n",
       "        vertical-align: top;\n",
       "    }\n",
       "\n",
       "    .dataframe thead th {\n",
       "        text-align: right;\n",
       "    }\n",
       "</style>\n",
       "<table border=\"1\" class=\"dataframe\">\n",
       "  <thead>\n",
       "    <tr style=\"text-align: right;\">\n",
       "      <th></th>\n",
       "      <th>区域</th>\n",
       "      <th>房租总金额</th>\n",
       "      <th>总面积</th>\n",
       "      <th>每平米租金（元）</th>\n",
       "    </tr>\n",
       "  </thead>\n",
       "  <tbody>\n",
       "    <tr>\n",
       "      <th>0</th>\n",
       "      <td>东城</td>\n",
       "      <td>3945550</td>\n",
       "      <td>27353.99</td>\n",
       "      <td>144.24</td>\n",
       "    </tr>\n",
       "    <tr>\n",
       "      <th>1</th>\n",
       "      <td>丰台</td>\n",
       "      <td>4404893</td>\n",
       "      <td>50922.79</td>\n",
       "      <td>86.50</td>\n",
       "    </tr>\n",
       "    <tr>\n",
       "      <th>2</th>\n",
       "      <td>亦庄开发区</td>\n",
       "      <td>1318400</td>\n",
       "      <td>15995.53</td>\n",
       "      <td>82.42</td>\n",
       "    </tr>\n",
       "    <tr>\n",
       "      <th>3</th>\n",
       "      <td>大兴</td>\n",
       "      <td>2286950</td>\n",
       "      <td>35884.15</td>\n",
       "      <td>63.73</td>\n",
       "    </tr>\n",
       "    <tr>\n",
       "      <th>4</th>\n",
       "      <td>房山</td>\n",
       "      <td>726750</td>\n",
       "      <td>15275.41</td>\n",
       "      <td>47.58</td>\n",
       "    </tr>\n",
       "    <tr>\n",
       "      <th>5</th>\n",
       "      <td>昌平</td>\n",
       "      <td>2521515</td>\n",
       "      <td>35972.92</td>\n",
       "      <td>70.09</td>\n",
       "    </tr>\n",
       "    <tr>\n",
       "      <th>6</th>\n",
       "      <td>朝阳</td>\n",
       "      <td>20281396</td>\n",
       "      <td>166921.72</td>\n",
       "      <td>121.50</td>\n",
       "    </tr>\n",
       "    <tr>\n",
       "      <th>7</th>\n",
       "      <td>海淀</td>\n",
       "      <td>7279350</td>\n",
       "      <td>57210.39</td>\n",
       "      <td>127.24</td>\n",
       "    </tr>\n",
       "    <tr>\n",
       "      <th>8</th>\n",
       "      <td>石景山</td>\n",
       "      <td>1156500</td>\n",
       "      <td>13956.67</td>\n",
       "      <td>82.86</td>\n",
       "    </tr>\n",
       "    <tr>\n",
       "      <th>9</th>\n",
       "      <td>西城</td>\n",
       "      <td>5636975</td>\n",
       "      <td>37141.64</td>\n",
       "      <td>151.77</td>\n",
       "    </tr>\n",
       "    <tr>\n",
       "      <th>10</th>\n",
       "      <td>通州</td>\n",
       "      <td>2719600</td>\n",
       "      <td>46625.23</td>\n",
       "      <td>58.33</td>\n",
       "    </tr>\n",
       "    <tr>\n",
       "      <th>11</th>\n",
       "      <td>门头沟</td>\n",
       "      <td>1048300</td>\n",
       "      <td>20258.20</td>\n",
       "      <td>51.75</td>\n",
       "    </tr>\n",
       "    <tr>\n",
       "      <th>12</th>\n",
       "      <td>顺义</td>\n",
       "      <td>2190900</td>\n",
       "      <td>33668.97</td>\n",
       "      <td>65.07</td>\n",
       "    </tr>\n",
       "  </tbody>\n",
       "</table>\n",
       "</div>"
      ],
      "text/plain": [
       "       区域     房租总金额        总面积  每平米租金（元）\n",
       "0      东城   3945550   27353.99    144.24\n",
       "1      丰台   4404893   50922.79     86.50\n",
       "2   亦庄开发区   1318400   15995.53     82.42\n",
       "3      大兴   2286950   35884.15     63.73\n",
       "4      房山    726750   15275.41     47.58\n",
       "5      昌平   2521515   35972.92     70.09\n",
       "6      朝阳  20281396  166921.72    121.50\n",
       "7      海淀   7279350   57210.39    127.24\n",
       "8     石景山   1156500   13956.67     82.86\n",
       "9      西城   5636975   37141.64    151.77\n",
       "10     通州   2719600   46625.23     58.33\n",
       "11    门头沟   1048300   20258.20     51.75\n",
       "12     顺义   2190900   33668.97     65.07"
      ]
     },
     "execution_count": 74,
     "metadata": {},
     "output_type": "execute_result"
    }
   ],
   "source": [
    "df_all"
   ]
  },
  {
   "cell_type": "code",
   "execution_count": 75,
   "metadata": {},
   "outputs": [],
   "source": [
    "df_merge = pd.merge(new_df, df_all)"
   ]
  },
  {
   "cell_type": "code",
   "execution_count": 76,
   "metadata": {},
   "outputs": [
    {
     "data": {
      "text/html": [
       "<div>\n",
       "<style scoped>\n",
       "    .dataframe tbody tr th:only-of-type {\n",
       "        vertical-align: middle;\n",
       "    }\n",
       "\n",
       "    .dataframe tbody tr th {\n",
       "        vertical-align: top;\n",
       "    }\n",
       "\n",
       "    .dataframe thead th {\n",
       "        text-align: right;\n",
       "    }\n",
       "</style>\n",
       "<table border=\"1\" class=\"dataframe\">\n",
       "  <thead>\n",
       "    <tr style=\"text-align: right;\">\n",
       "      <th></th>\n",
       "      <th>区域</th>\n",
       "      <th>数量</th>\n",
       "      <th>房租总金额</th>\n",
       "      <th>总面积</th>\n",
       "      <th>每平米租金（元）</th>\n",
       "    </tr>\n",
       "  </thead>\n",
       "  <tbody>\n",
       "    <tr>\n",
       "      <th>0</th>\n",
       "      <td>东城</td>\n",
       "      <td>282</td>\n",
       "      <td>3945550</td>\n",
       "      <td>27353.99</td>\n",
       "      <td>144.24</td>\n",
       "    </tr>\n",
       "    <tr>\n",
       "      <th>1</th>\n",
       "      <td>丰台</td>\n",
       "      <td>577</td>\n",
       "      <td>4404893</td>\n",
       "      <td>50922.79</td>\n",
       "      <td>86.50</td>\n",
       "    </tr>\n",
       "    <tr>\n",
       "      <th>2</th>\n",
       "      <td>亦庄开发区</td>\n",
       "      <td>147</td>\n",
       "      <td>1318400</td>\n",
       "      <td>15995.53</td>\n",
       "      <td>82.42</td>\n",
       "    </tr>\n",
       "    <tr>\n",
       "      <th>3</th>\n",
       "      <td>大兴</td>\n",
       "      <td>362</td>\n",
       "      <td>2286950</td>\n",
       "      <td>35884.15</td>\n",
       "      <td>63.73</td>\n",
       "    </tr>\n",
       "    <tr>\n",
       "      <th>4</th>\n",
       "      <td>房山</td>\n",
       "      <td>180</td>\n",
       "      <td>726750</td>\n",
       "      <td>15275.41</td>\n",
       "      <td>47.58</td>\n",
       "    </tr>\n",
       "    <tr>\n",
       "      <th>5</th>\n",
       "      <td>昌平</td>\n",
       "      <td>347</td>\n",
       "      <td>2521515</td>\n",
       "      <td>35972.92</td>\n",
       "      <td>70.09</td>\n",
       "    </tr>\n",
       "    <tr>\n",
       "      <th>6</th>\n",
       "      <td>朝阳</td>\n",
       "      <td>1597</td>\n",
       "      <td>20281396</td>\n",
       "      <td>166921.72</td>\n",
       "      <td>121.50</td>\n",
       "    </tr>\n",
       "    <tr>\n",
       "      <th>7</th>\n",
       "      <td>海淀</td>\n",
       "      <td>605</td>\n",
       "      <td>7279350</td>\n",
       "      <td>57210.39</td>\n",
       "      <td>127.24</td>\n",
       "    </tr>\n",
       "    <tr>\n",
       "      <th>8</th>\n",
       "      <td>石景山</td>\n",
       "      <td>175</td>\n",
       "      <td>1156500</td>\n",
       "      <td>13956.67</td>\n",
       "      <td>82.86</td>\n",
       "    </tr>\n",
       "    <tr>\n",
       "      <th>9</th>\n",
       "      <td>西城</td>\n",
       "      <td>442</td>\n",
       "      <td>5636975</td>\n",
       "      <td>37141.64</td>\n",
       "      <td>151.77</td>\n",
       "    </tr>\n",
       "    <tr>\n",
       "      <th>10</th>\n",
       "      <td>通州</td>\n",
       "      <td>477</td>\n",
       "      <td>2719600</td>\n",
       "      <td>46625.23</td>\n",
       "      <td>58.33</td>\n",
       "    </tr>\n",
       "    <tr>\n",
       "      <th>11</th>\n",
       "      <td>门头沟</td>\n",
       "      <td>285</td>\n",
       "      <td>1048300</td>\n",
       "      <td>20258.20</td>\n",
       "      <td>51.75</td>\n",
       "    </tr>\n",
       "    <tr>\n",
       "      <th>12</th>\n",
       "      <td>顺义</td>\n",
       "      <td>297</td>\n",
       "      <td>2190900</td>\n",
       "      <td>33668.97</td>\n",
       "      <td>65.07</td>\n",
       "    </tr>\n",
       "  </tbody>\n",
       "</table>\n",
       "</div>"
      ],
      "text/plain": [
       "       区域    数量     房租总金额        总面积  每平米租金（元）\n",
       "0      东城   282   3945550   27353.99    144.24\n",
       "1      丰台   577   4404893   50922.79     86.50\n",
       "2   亦庄开发区   147   1318400   15995.53     82.42\n",
       "3      大兴   362   2286950   35884.15     63.73\n",
       "4      房山   180    726750   15275.41     47.58\n",
       "5      昌平   347   2521515   35972.92     70.09\n",
       "6      朝阳  1597  20281396  166921.72    121.50\n",
       "7      海淀   605   7279350   57210.39    127.24\n",
       "8     石景山   175   1156500   13956.67     82.86\n",
       "9      西城   442   5636975   37141.64    151.77\n",
       "10     通州   477   2719600   46625.23     58.33\n",
       "11    门头沟   285   1048300   20258.20     51.75\n",
       "12     顺义   297   2190900   33668.97     65.07"
      ]
     },
     "execution_count": 76,
     "metadata": {},
     "output_type": "execute_result"
    }
   ],
   "source": [
    "df_merge"
   ]
  },
  {
   "cell_type": "code",
   "execution_count": 101,
   "metadata": {},
   "outputs": [
    {
     "data": {
      "image/png": "[encoded data removed]",
      "text/plain": [
       "<Figure size 1500x800 with 2 Axes>"
      ]
     },
     "metadata": {
      "needs_background": "light"
     },
     "output_type": "display_data"
    }
   ],
   "source": [
    "# 图形可视化\n",
    "\n",
    "num = df_merge[\"数量\"]\n",
    "price = df_merge[\"每平米租金（元）\"]\n",
    "lx = df_merge[\"区域\"]\n",
    "l = [i for i in range(13)]\n",
    "\n",
    "fig = plt.figure(figsize=(15, 8), dpi=100)\n",
    "\n",
    "# 显示折线图\n",
    "ax1 = fig.add_subplot(111)\n",
    "ax1.plot(l, price, \"or-\", label=\"价格\")\n",
    "for i, (_x, _y) in enumerate(zip(l, price)):\n",
    "    plt.text(_x+0.2, _y, price[i])\n",
    "\n",
    "ax1.set_ylim([0, 160])\n",
    "ax1.set_ylabel(\"价格\")\n",
    "plt.legend(loc=\"upper right\")\n",
    "\n",
    "# 显示条形图\n",
    "ax2 = ax1.twinx()\n",
    "plt.bar(l, num, label=\"数量\", alpha=0.2, color=\"green\")\n",
    "for i, (_x, _y) in enumerate(zip(l, num)):\n",
    "    plt.text(_x, _y, num[i])\n",
    "    \n",
    "ax2.set_ylabel(\"数量\")\n",
    "plt.legend(loc=\"upper left\")\n",
    "plt.xticks(l, lx)\n",
    "\n",
    "plt.show()"
   ]
  },
  {
   "cell_type": "markdown",
   "metadata": {},
   "source": [
    "## 面积基本分析"
   ]
  },
  {
   "cell_type": "code",
   "execution_count": 102,
   "metadata": {},
   "outputs": [
    {
     "name": "stdout",
     "output_type": "stream",
     "text": [
      "房屋最大面积是1133平米\n",
      "房屋最小面积是11平米\n",
      "房租最高价格为每月150000元\n",
      "房屋最低价格为每月566元\n"
     ]
    }
   ],
   "source": [
    "# 查看房屋的最大面积和最小面积\n",
    "print('房屋最大面积是%d平米'%(file_data['面积(㎡)'].max()))\n",
    "print('房屋最小面积是%d平米'%(file_data['面积(㎡)'].min()))\n",
    "# 查看房租的最高值和最小值\n",
    "print('房租最高价格为每月%d元'%(file_data['价格(元/月)'].max()))\n",
    "print('房屋最低价格为每月%d元'%(file_data['价格(元/月)'].min()))"
   ]
  },
  {
   "cell_type": "code",
   "execution_count": 104,
   "metadata": {},
   "outputs": [],
   "source": [
    "# 面积划分\n",
    "area_divide = [1, 30, 50, 70, 90, 120, 140, 160, 1200]\n",
    "area_cut = pd.cut(list(file_data[\"面积(㎡)\"]), area_divide)"
   ]
  },
  {
   "cell_type": "code",
   "execution_count": 105,
   "metadata": {},
   "outputs": [
    {
     "data": {
      "text/html": [
       "<div>\n",
       "<style scoped>\n",
       "    .dataframe tbody tr th:only-of-type {\n",
       "        vertical-align: middle;\n",
       "    }\n",
       "\n",
       "    .dataframe tbody tr th {\n",
       "        vertical-align: top;\n",
       "    }\n",
       "\n",
       "    .dataframe thead th {\n",
       "        text-align: right;\n",
       "    }\n",
       "</style>\n",
       "<table border=\"1\" class=\"dataframe\">\n",
       "  <thead>\n",
       "    <tr style=\"text-align: right;\">\n",
       "      <th></th>\n",
       "      <th>counts</th>\n",
       "      <th>freqs</th>\n",
       "    </tr>\n",
       "    <tr>\n",
       "      <th>categories</th>\n",
       "      <th></th>\n",
       "      <th></th>\n",
       "    </tr>\n",
       "  </thead>\n",
       "  <tbody>\n",
       "    <tr>\n",
       "      <th>(1, 30]</th>\n",
       "      <td>41</td>\n",
       "      <td>0.007102</td>\n",
       "    </tr>\n",
       "    <tr>\n",
       "      <th>(30, 50]</th>\n",
       "      <td>710</td>\n",
       "      <td>0.122986</td>\n",
       "    </tr>\n",
       "    <tr>\n",
       "      <th>(50, 70]</th>\n",
       "      <td>1566</td>\n",
       "      <td>0.271263</td>\n",
       "    </tr>\n",
       "    <tr>\n",
       "      <th>(70, 90]</th>\n",
       "      <td>1094</td>\n",
       "      <td>0.189503</td>\n",
       "    </tr>\n",
       "    <tr>\n",
       "      <th>(90, 120]</th>\n",
       "      <td>1082</td>\n",
       "      <td>0.187424</td>\n",
       "    </tr>\n",
       "    <tr>\n",
       "      <th>(120, 140]</th>\n",
       "      <td>381</td>\n",
       "      <td>0.065997</td>\n",
       "    </tr>\n",
       "    <tr>\n",
       "      <th>(140, 160]</th>\n",
       "      <td>274</td>\n",
       "      <td>0.047462</td>\n",
       "    </tr>\n",
       "    <tr>\n",
       "      <th>(160, 1200]</th>\n",
       "      <td>625</td>\n",
       "      <td>0.108263</td>\n",
       "    </tr>\n",
       "  </tbody>\n",
       "</table>\n",
       "</div>"
      ],
      "text/plain": [
       "             counts     freqs\n",
       "categories                   \n",
       "(1, 30]          41  0.007102\n",
       "(30, 50]        710  0.122986\n",
       "(50, 70]       1566  0.271263\n",
       "(70, 90]       1094  0.189503\n",
       "(90, 120]      1082  0.187424\n",
       "(120, 140]      381  0.065997\n",
       "(140, 160]      274  0.047462\n",
       "(160, 1200]     625  0.108263"
      ]
     },
     "execution_count": 105,
     "metadata": {},
     "output_type": "execute_result"
    }
   ],
   "source": [
    "area_cut_num = area_cut.describe()\n",
    "area_cut_num"
   ]
  },
  {
   "cell_type": "code",
   "execution_count": 112,
   "metadata": {},
   "outputs": [
    {
     "data": {
      "image/png": "[encoded data removed]",
      "text/plain": [
       "<Figure size 2000x800 with 1 Axes>"
      ]
     },
     "metadata": {},
     "output_type": "display_data"
    }
   ],
   "source": [
    "# 图形可视化\n",
    "area_per = (area_cut_num[\"freqs\"].values)*100\n",
    "labels = ['30平米以下', '30-50平米', '50-70平米', '70-90平米',\n",
    "          '90-120平米', '120-140平米', '140-160平米', '160平米以上']\n",
    "plt.figure(figsize=(20, 8), dpi=100)\n",
    "plt.axes()\n",
    "\n",
    "plt.pie(x=area_per, labels=labels, autopct=\"%.2f %%\")\n",
    "\n",
    "plt.legend()\n",
    "\n",
    "plt.show()"
   ]
  },
  {
   "cell_type": "code",
   "execution_count": 108,
   "metadata": {},
   "outputs": [
    {
     "data": {
      "text/plain": [
       "array([ 0.71020267, 12.29863156, 27.1262775 , 18.95028581, 18.74242162,\n",
       "        6.5996882 ,  4.74623246, 10.82626018])"
      ]
     },
     "execution_count": 108,
     "metadata": {},
     "output_type": "execute_result"
    }
   ],
   "source": [
    "area_per"
   ]
  },
  {
   "cell_type": "code",
   "execution_count": null,
   "metadata": {},
   "outputs": [],
   "source": []
  }
 ],
 "metadata": {
  "kernelspec": {
   "display_name": "Python 3",
   "language": "python",
   "name": "python3"
  },
  "language_info": {
   "codemirror_mode": {
    "name": "ipython",
    "version": 3
   },
   "file_extension": ".py",
   "mimetype": "text/x-python",
   "name": "python",
   "nbconvert_exporter": "python",
   "pygments_lexer": "ipython3",
   "version": "3.8.5"
  },
  "toc": {
   "base_numbering": 1,
   "nav_menu": {},
   "number_sections": true,
   "sideBar": true,
   "skip_h1_title": false,
   "title_cell": "Table of Contents",
   "title_sidebar": "Contents",
   "toc_cell": false,
   "toc_position": {},
   "toc_section_display": true,
   "toc_window_display": false
  }
 },
 "nbformat": 4,
 "nbformat_minor": 4
}
