{
 "cells": [
  {
   "cell_type": "markdown",
   "metadata": {
    "collapsed": true,
    "pycharm": {
     "name": "#%% md\n"
    }
   },
   "source": [
    "# 1 Series"
   ]
  },
  {
   "cell_type": "markdown",
   "source": [
    "# 1.1 Series的创建"
   ],
   "metadata": {
    "collapsed": false
   }
  },
  {
   "cell_type": "code",
   "execution_count": 2,
   "outputs": [],
   "source": [
    "import pandas as pd\n",
    "import numpy as np"
   ],
   "metadata": {
    "collapsed": false,
    "pycharm": {
     "name": "#%%\n"
    }
   }
  },
  {
   "cell_type": "code",
   "execution_count": 3,
   "outputs": [
    {
     "data": {
      "text/plain": "0    0\n1    1\n2    2\n3    3\n4    4\n5    5\n6    6\n7    7\n8    8\ndtype: int32"
     },
     "execution_count": 3,
     "metadata": {},
     "output_type": "execute_result"
    }
   ],
   "source": [
    "pd.Series(np.arange(9))"
   ],
   "metadata": {
    "collapsed": false,
    "pycharm": {
     "name": "#%%\n"
    }
   }
  },
  {
   "cell_type": "code",
   "execution_count": 4,
   "outputs": [
    {
     "data": {
      "text/plain": "array([0, 1, 2, 3, 4, 5, 6, 7, 8])"
     },
     "execution_count": 4,
     "metadata": {},
     "output_type": "execute_result"
    }
   ],
   "source": [
    "np.arange(9)"
   ],
   "metadata": {
    "collapsed": false,
    "pycharm": {
     "name": "#%%\n"
    }
   }
  },
  {
   "cell_type": "code",
   "execution_count": 5,
   "outputs": [
    {
     "data": {
      "text/plain": "1    1.2\n2    2.3\n3    4.5\n4    5.0\ndtype: float64"
     },
     "execution_count": 5,
     "metadata": {},
     "output_type": "execute_result"
    }
   ],
   "source": [
    "pd.Series([1.2,2.3,4.5,5.0],index=[1,2,3,4])"
   ],
   "metadata": {
    "collapsed": false,
    "pycharm": {
     "name": "#%%\n"
    }
   }
  },
  {
   "cell_type": "code",
   "execution_count": 6,
   "outputs": [],
   "source": [
    "color_count = pd.Series({\"red\":10,\"green\":20,\"blue\":30})"
   ],
   "metadata": {
    "collapsed": false,
    "pycharm": {
     "name": "#%%\n"
    }
   }
  },
  {
   "cell_type": "code",
   "execution_count": 7,
   "outputs": [
    {
     "data": {
      "text/plain": "red      10\ngreen    20\nblue     30\ndtype: int64"
     },
     "execution_count": 7,
     "metadata": {},
     "output_type": "execute_result"
    }
   ],
   "source": [
    "color_count"
   ],
   "metadata": {
    "collapsed": false,
    "pycharm": {
     "name": "#%%\n"
    }
   }
  },
  {
   "cell_type": "markdown",
   "source": [
    "## Series的属性"
   ],
   "metadata": {
    "collapsed": false,
    "pycharm": {
     "name": "#%% md\n"
    }
   }
  },
  {
   "cell_type": "code",
   "execution_count": 8,
   "outputs": [
    {
     "data": {
      "text/plain": "Index(['red', 'green', 'blue'], dtype='object')"
     },
     "execution_count": 8,
     "metadata": {},
     "output_type": "execute_result"
    }
   ],
   "source": [
    "color_count.index"
   ],
   "metadata": {
    "collapsed": false,
    "pycharm": {
     "name": "#%%\n"
    }
   }
  },
  {
   "cell_type": "code",
   "execution_count": 9,
   "outputs": [
    {
     "data": {
      "text/plain": "array([10, 20, 30], dtype=int64)"
     },
     "execution_count": 9,
     "metadata": {},
     "output_type": "execute_result"
    }
   ],
   "source": [
    "color_count.values"
   ],
   "metadata": {
    "collapsed": false,
    "pycharm": {
     "name": "#%%\n"
    }
   }
  },
  {
   "cell_type": "code",
   "execution_count": 10,
   "outputs": [
    {
     "data": {
      "text/plain": "10"
     },
     "execution_count": 10,
     "metadata": {},
     "output_type": "execute_result"
    }
   ],
   "source": [
    "color_count[0]"
   ],
   "metadata": {
    "collapsed": false,
    "pycharm": {
     "name": "#%%\n"
    }
   }
  },
  {
   "cell_type": "code",
   "execution_count": 11,
   "outputs": [
    {
     "data": {
      "text/plain": "20"
     },
     "execution_count": 11,
     "metadata": {},
     "output_type": "execute_result"
    }
   ],
   "source": [
    "color_count[1]"
   ],
   "metadata": {
    "collapsed": false,
    "pycharm": {
     "name": "#%%\n"
    }
   }
  },
  {
   "cell_type": "markdown",
   "source": [
    "# DataFrame\n",
    "## DataFrame创建"
   ],
   "metadata": {
    "collapsed": false,
    "pycharm": {
     "name": "#%% md\n"
    }
   }
  },
  {
   "cell_type": "code",
   "execution_count": 12,
   "outputs": [
    {
     "data": {
      "text/plain": "          0         1         2\n0 -0.278129  0.367829  1.590343\n1  0.094557  0.491571 -1.280931",
      "text/html": "<div>\n<style scoped>\n    .dataframe tbody tr th:only-of-type {\n        vertical-align: middle;\n    }\n\n    .dataframe tbody tr th {\n        vertical-align: top;\n    }\n\n    .dataframe thead th {\n        text-align: right;\n    }\n</style>\n<table border=\"1\" class=\"dataframe\">\n  <thead>\n    <tr style=\"text-align: right;\">\n      <th></th>\n      <th>0</th>\n      <th>1</th>\n      <th>2</th>\n    </tr>\n  </thead>\n  <tbody>\n    <tr>\n      <th>0</th>\n      <td>-0.278129</td>\n      <td>0.367829</td>\n      <td>1.590343</td>\n    </tr>\n    <tr>\n      <th>1</th>\n      <td>0.094557</td>\n      <td>0.491571</td>\n      <td>-1.280931</td>\n    </tr>\n  </tbody>\n</table>\n</div>"
     },
     "execution_count": 12,
     "metadata": {},
     "output_type": "execute_result"
    }
   ],
   "source": [
    "pd.DataFrame(np.random.randn(2,3))"
   ],
   "metadata": {
    "collapsed": false,
    "pycharm": {
     "name": "#%%\n"
    }
   }
  },
  {
   "cell_type": "code",
   "execution_count": 13,
   "outputs": [],
   "source": [
    "score = np.random.randint(40,100,(10,5))"
   ],
   "metadata": {
    "collapsed": false,
    "pycharm": {
     "name": "#%%\n"
    }
   }
  },
  {
   "cell_type": "code",
   "execution_count": 14,
   "outputs": [
    {
     "data": {
      "text/plain": "array([[61, 80, 87, 53, 42],\n       [56, 80, 62, 84, 74],\n       [78, 44, 66, 71, 67],\n       [77, 47, 41, 89, 80],\n       [42, 62, 96, 63, 63],\n       [70, 54, 67, 56, 48],\n       [44, 62, 49, 45, 91],\n       [58, 96, 92, 46, 89],\n       [97, 95, 48, 42, 92],\n       [53, 42, 76, 82, 61]])"
     },
     "execution_count": 14,
     "metadata": {},
     "output_type": "execute_result"
    }
   ],
   "source": [
    "score"
   ],
   "metadata": {
    "collapsed": false,
    "pycharm": {
     "name": "#%%\n"
    }
   }
  },
  {
   "cell_type": "code",
   "execution_count": 15,
   "outputs": [],
   "source": [
    "score_df = pd.DataFrame(score)"
   ],
   "metadata": {
    "collapsed": false,
    "pycharm": {
     "name": "#%%\n"
    }
   }
  },
  {
   "cell_type": "code",
   "execution_count": 16,
   "outputs": [
    {
     "data": {
      "text/plain": "    0   1   2   3   4\n0  61  80  87  53  42\n1  56  80  62  84  74\n2  78  44  66  71  67\n3  77  47  41  89  80\n4  42  62  96  63  63\n5  70  54  67  56  48\n6  44  62  49  45  91\n7  58  96  92  46  89\n8  97  95  48  42  92\n9  53  42  76  82  61",
      "text/html": "<div>\n<style scoped>\n    .dataframe tbody tr th:only-of-type {\n        vertical-align: middle;\n    }\n\n    .dataframe tbody tr th {\n        vertical-align: top;\n    }\n\n    .dataframe thead th {\n        text-align: right;\n    }\n</style>\n<table border=\"1\" class=\"dataframe\">\n  <thead>\n    <tr style=\"text-align: right;\">\n      <th></th>\n      <th>0</th>\n      <th>1</th>\n      <th>2</th>\n      <th>3</th>\n      <th>4</th>\n    </tr>\n  </thead>\n  <tbody>\n    <tr>\n      <th>0</th>\n      <td>61</td>\n      <td>80</td>\n      <td>87</td>\n      <td>53</td>\n      <td>42</td>\n    </tr>\n    <tr>\n      <th>1</th>\n      <td>56</td>\n      <td>80</td>\n      <td>62</td>\n      <td>84</td>\n      <td>74</td>\n    </tr>\n    <tr>\n      <th>2</th>\n      <td>78</td>\n      <td>44</td>\n      <td>66</td>\n      <td>71</td>\n      <td>67</td>\n    </tr>\n    <tr>\n      <th>3</th>\n      <td>77</td>\n      <td>47</td>\n      <td>41</td>\n      <td>89</td>\n      <td>80</td>\n    </tr>\n    <tr>\n      <th>4</th>\n      <td>42</td>\n      <td>62</td>\n      <td>96</td>\n      <td>63</td>\n      <td>63</td>\n    </tr>\n    <tr>\n      <th>5</th>\n      <td>70</td>\n      <td>54</td>\n      <td>67</td>\n      <td>56</td>\n      <td>48</td>\n    </tr>\n    <tr>\n      <th>6</th>\n      <td>44</td>\n      <td>62</td>\n      <td>49</td>\n      <td>45</td>\n      <td>91</td>\n    </tr>\n    <tr>\n      <th>7</th>\n      <td>58</td>\n      <td>96</td>\n      <td>92</td>\n      <td>46</td>\n      <td>89</td>\n    </tr>\n    <tr>\n      <th>8</th>\n      <td>97</td>\n      <td>95</td>\n      <td>48</td>\n      <td>42</td>\n      <td>92</td>\n    </tr>\n    <tr>\n      <th>9</th>\n      <td>53</td>\n      <td>42</td>\n      <td>76</td>\n      <td>82</td>\n      <td>61</td>\n    </tr>\n  </tbody>\n</table>\n</div>"
     },
     "execution_count": 16,
     "metadata": {},
     "output_type": "execute_result"
    }
   ],
   "source": [
    "score_df"
   ],
   "metadata": {
    "collapsed": false,
    "pycharm": {
     "name": "#%%\n"
    }
   }
  },
  {
   "cell_type": "code",
   "execution_count": 17,
   "outputs": [],
   "source": [
    "subjects = [\"语文\",\"数学\",\"英语\",\"政治\",\"体育\"]\n",
    "\n",
    "stu = [\"stu\" +str(i) for i in range(score_df.shape[0])]\n",
    "\n",
    "data = pd.DataFrame(score,columns=subjects,index=stu)"
   ],
   "metadata": {
    "collapsed": false,
    "pycharm": {
     "name": "#%%\n"
    }
   }
  },
  {
   "cell_type": "code",
   "execution_count": 18,
   "outputs": [
    {
     "data": {
      "text/plain": "['stu0',\n 'stu1',\n 'stu2',\n 'stu3',\n 'stu4',\n 'stu5',\n 'stu6',\n 'stu7',\n 'stu8',\n 'stu9']"
     },
     "execution_count": 18,
     "metadata": {},
     "output_type": "execute_result"
    }
   ],
   "source": [
    "stu"
   ],
   "metadata": {
    "collapsed": false,
    "pycharm": {
     "name": "#%%\n"
    }
   }
  },
  {
   "cell_type": "code",
   "execution_count": 19,
   "outputs": [
    {
     "data": {
      "text/plain": "      语文  数学  英语  政治  体育\nstu0  61  80  87  53  42\nstu1  56  80  62  84  74\nstu2  78  44  66  71  67\nstu3  77  47  41  89  80\nstu4  42  62  96  63  63\nstu5  70  54  67  56  48\nstu6  44  62  49  45  91\nstu7  58  96  92  46  89\nstu8  97  95  48  42  92\nstu9  53  42  76  82  61",
      "text/html": "<div>\n<style scoped>\n    .dataframe tbody tr th:only-of-type {\n        vertical-align: middle;\n    }\n\n    .dataframe tbody tr th {\n        vertical-align: top;\n    }\n\n    .dataframe thead th {\n        text-align: right;\n    }\n</style>\n<table border=\"1\" class=\"dataframe\">\n  <thead>\n    <tr style=\"text-align: right;\">\n      <th></th>\n      <th>语文</th>\n      <th>数学</th>\n      <th>英语</th>\n      <th>政治</th>\n      <th>体育</th>\n    </tr>\n  </thead>\n  <tbody>\n    <tr>\n      <th>stu0</th>\n      <td>61</td>\n      <td>80</td>\n      <td>87</td>\n      <td>53</td>\n      <td>42</td>\n    </tr>\n    <tr>\n      <th>stu1</th>\n      <td>56</td>\n      <td>80</td>\n      <td>62</td>\n      <td>84</td>\n      <td>74</td>\n    </tr>\n    <tr>\n      <th>stu2</th>\n      <td>78</td>\n      <td>44</td>\n      <td>66</td>\n      <td>71</td>\n      <td>67</td>\n    </tr>\n    <tr>\n      <th>stu3</th>\n      <td>77</td>\n      <td>47</td>\n      <td>41</td>\n      <td>89</td>\n      <td>80</td>\n    </tr>\n    <tr>\n      <th>stu4</th>\n      <td>42</td>\n      <td>62</td>\n      <td>96</td>\n      <td>63</td>\n      <td>63</td>\n    </tr>\n    <tr>\n      <th>stu5</th>\n      <td>70</td>\n      <td>54</td>\n      <td>67</td>\n      <td>56</td>\n      <td>48</td>\n    </tr>\n    <tr>\n      <th>stu6</th>\n      <td>44</td>\n      <td>62</td>\n      <td>49</td>\n      <td>45</td>\n      <td>91</td>\n    </tr>\n    <tr>\n      <th>stu7</th>\n      <td>58</td>\n      <td>96</td>\n      <td>92</td>\n      <td>46</td>\n      <td>89</td>\n    </tr>\n    <tr>\n      <th>stu8</th>\n      <td>97</td>\n      <td>95</td>\n      <td>48</td>\n      <td>42</td>\n      <td>92</td>\n    </tr>\n    <tr>\n      <th>stu9</th>\n      <td>53</td>\n      <td>42</td>\n      <td>76</td>\n      <td>82</td>\n      <td>61</td>\n    </tr>\n  </tbody>\n</table>\n</div>"
     },
     "execution_count": 19,
     "metadata": {},
     "output_type": "execute_result"
    }
   ],
   "source": [
    "data"
   ],
   "metadata": {
    "collapsed": false,
    "pycharm": {
     "name": "#%%\n"
    }
   }
  },
  {
   "cell_type": "code",
   "execution_count": 20,
   "outputs": [],
   "source": [
    "## DataFrame的属性"
   ],
   "metadata": {
    "collapsed": false,
    "pycharm": {
     "name": "#%%\n"
    }
   }
  },
  {
   "cell_type": "code",
   "execution_count": 21,
   "outputs": [
    {
     "data": {
      "text/plain": "(10, 5)"
     },
     "execution_count": 21,
     "metadata": {},
     "output_type": "execute_result"
    }
   ],
   "source": [
    "data.shape"
   ],
   "metadata": {
    "collapsed": false,
    "pycharm": {
     "name": "#%%\n"
    }
   }
  },
  {
   "cell_type": "code",
   "execution_count": 22,
   "outputs": [
    {
     "data": {
      "text/plain": "Index(['stu0', 'stu1', 'stu2', 'stu3', 'stu4', 'stu5', 'stu6', 'stu7', 'stu8',\n       'stu9'],\n      dtype='object')"
     },
     "execution_count": 22,
     "metadata": {},
     "output_type": "execute_result"
    }
   ],
   "source": [
    "data.index"
   ],
   "metadata": {
    "collapsed": false,
    "pycharm": {
     "name": "#%%\n"
    }
   }
  },
  {
   "cell_type": "code",
   "execution_count": 23,
   "outputs": [
    {
     "data": {
      "text/plain": "Index(['语文', '数学', '英语', '政治', '体育'], dtype='object')"
     },
     "execution_count": 23,
     "metadata": {},
     "output_type": "execute_result"
    }
   ],
   "source": [
    "data.columns"
   ],
   "metadata": {
    "collapsed": false,
    "pycharm": {
     "name": "#%%\n"
    }
   }
  },
  {
   "cell_type": "code",
   "execution_count": 24,
   "outputs": [
    {
     "data": {
      "text/plain": "array([[61, 80, 87, 53, 42],\n       [56, 80, 62, 84, 74],\n       [78, 44, 66, 71, 67],\n       [77, 47, 41, 89, 80],\n       [42, 62, 96, 63, 63],\n       [70, 54, 67, 56, 48],\n       [44, 62, 49, 45, 91],\n       [58, 96, 92, 46, 89],\n       [97, 95, 48, 42, 92],\n       [53, 42, 76, 82, 61]])"
     },
     "execution_count": 24,
     "metadata": {},
     "output_type": "execute_result"
    }
   ],
   "source": [
    "data.values"
   ],
   "metadata": {
    "collapsed": false,
    "pycharm": {
     "name": "#%%\n"
    }
   }
  },
  {
   "cell_type": "code",
   "execution_count": 25,
   "outputs": [
    {
     "data": {
      "text/plain": "    stu0  stu1  stu2  stu3  stu4  stu5  stu6  stu7  stu8  stu9\n语文    61    56    78    77    42    70    44    58    97    53\n数学    80    80    44    47    62    54    62    96    95    42\n英语    87    62    66    41    96    67    49    92    48    76\n政治    53    84    71    89    63    56    45    46    42    82\n体育    42    74    67    80    63    48    91    89    92    61",
      "text/html": "<div>\n<style scoped>\n    .dataframe tbody tr th:only-of-type {\n        vertical-align: middle;\n    }\n\n    .dataframe tbody tr th {\n        vertical-align: top;\n    }\n\n    .dataframe thead th {\n        text-align: right;\n    }\n</style>\n<table border=\"1\" class=\"dataframe\">\n  <thead>\n    <tr style=\"text-align: right;\">\n      <th></th>\n      <th>stu0</th>\n      <th>stu1</th>\n      <th>stu2</th>\n      <th>stu3</th>\n      <th>stu4</th>\n      <th>stu5</th>\n      <th>stu6</th>\n      <th>stu7</th>\n      <th>stu8</th>\n      <th>stu9</th>\n    </tr>\n  </thead>\n  <tbody>\n    <tr>\n      <th>语文</th>\n      <td>61</td>\n      <td>56</td>\n      <td>78</td>\n      <td>77</td>\n      <td>42</td>\n      <td>70</td>\n      <td>44</td>\n      <td>58</td>\n      <td>97</td>\n      <td>53</td>\n    </tr>\n    <tr>\n      <th>数学</th>\n      <td>80</td>\n      <td>80</td>\n      <td>44</td>\n      <td>47</td>\n      <td>62</td>\n      <td>54</td>\n      <td>62</td>\n      <td>96</td>\n      <td>95</td>\n      <td>42</td>\n    </tr>\n    <tr>\n      <th>英语</th>\n      <td>87</td>\n      <td>62</td>\n      <td>66</td>\n      <td>41</td>\n      <td>96</td>\n      <td>67</td>\n      <td>49</td>\n      <td>92</td>\n      <td>48</td>\n      <td>76</td>\n    </tr>\n    <tr>\n      <th>政治</th>\n      <td>53</td>\n      <td>84</td>\n      <td>71</td>\n      <td>89</td>\n      <td>63</td>\n      <td>56</td>\n      <td>45</td>\n      <td>46</td>\n      <td>42</td>\n      <td>82</td>\n    </tr>\n    <tr>\n      <th>体育</th>\n      <td>42</td>\n      <td>74</td>\n      <td>67</td>\n      <td>80</td>\n      <td>63</td>\n      <td>48</td>\n      <td>91</td>\n      <td>89</td>\n      <td>92</td>\n      <td>61</td>\n    </tr>\n  </tbody>\n</table>\n</div>"
     },
     "execution_count": 25,
     "metadata": {},
     "output_type": "execute_result"
    }
   ],
   "source": [
    "data.T"
   ],
   "metadata": {
    "collapsed": false,
    "pycharm": {
     "name": "#%%\n"
    }
   }
  },
  {
   "cell_type": "code",
   "execution_count": 26,
   "outputs": [
    {
     "data": {
      "text/plain": "      语文  数学  英语  政治  体育\nstu0  61  80  87  53  42\nstu1  56  80  62  84  74\nstu2  78  44  66  71  67\nstu3  77  47  41  89  80\nstu4  42  62  96  63  63",
      "text/html": "<div>\n<style scoped>\n    .dataframe tbody tr th:only-of-type {\n        vertical-align: middle;\n    }\n\n    .dataframe tbody tr th {\n        vertical-align: top;\n    }\n\n    .dataframe thead th {\n        text-align: right;\n    }\n</style>\n<table border=\"1\" class=\"dataframe\">\n  <thead>\n    <tr style=\"text-align: right;\">\n      <th></th>\n      <th>语文</th>\n      <th>数学</th>\n      <th>英语</th>\n      <th>政治</th>\n      <th>体育</th>\n    </tr>\n  </thead>\n  <tbody>\n    <tr>\n      <th>stu0</th>\n      <td>61</td>\n      <td>80</td>\n      <td>87</td>\n      <td>53</td>\n      <td>42</td>\n    </tr>\n    <tr>\n      <th>stu1</th>\n      <td>56</td>\n      <td>80</td>\n      <td>62</td>\n      <td>84</td>\n      <td>74</td>\n    </tr>\n    <tr>\n      <th>stu2</th>\n      <td>78</td>\n      <td>44</td>\n      <td>66</td>\n      <td>71</td>\n      <td>67</td>\n    </tr>\n    <tr>\n      <th>stu3</th>\n      <td>77</td>\n      <td>47</td>\n      <td>41</td>\n      <td>89</td>\n      <td>80</td>\n    </tr>\n    <tr>\n      <th>stu4</th>\n      <td>42</td>\n      <td>62</td>\n      <td>96</td>\n      <td>63</td>\n      <td>63</td>\n    </tr>\n  </tbody>\n</table>\n</div>"
     },
     "execution_count": 26,
     "metadata": {},
     "output_type": "execute_result"
    }
   ],
   "source": [
    "data.head()"
   ],
   "metadata": {
    "collapsed": false,
    "pycharm": {
     "name": "#%%\n"
    }
   }
  },
  {
   "cell_type": "code",
   "execution_count": 27,
   "outputs": [
    {
     "data": {
      "text/plain": "      语文  数学  英语  政治  体育\nstu0  61  80  87  53  42\nstu1  56  80  62  84  74\nstu2  78  44  66  71  67",
      "text/html": "<div>\n<style scoped>\n    .dataframe tbody tr th:only-of-type {\n        vertical-align: middle;\n    }\n\n    .dataframe tbody tr th {\n        vertical-align: top;\n    }\n\n    .dataframe thead th {\n        text-align: right;\n    }\n</style>\n<table border=\"1\" class=\"dataframe\">\n  <thead>\n    <tr style=\"text-align: right;\">\n      <th></th>\n      <th>语文</th>\n      <th>数学</th>\n      <th>英语</th>\n      <th>政治</th>\n      <th>体育</th>\n    </tr>\n  </thead>\n  <tbody>\n    <tr>\n      <th>stu0</th>\n      <td>61</td>\n      <td>80</td>\n      <td>87</td>\n      <td>53</td>\n      <td>42</td>\n    </tr>\n    <tr>\n      <th>stu1</th>\n      <td>56</td>\n      <td>80</td>\n      <td>62</td>\n      <td>84</td>\n      <td>74</td>\n    </tr>\n    <tr>\n      <th>stu2</th>\n      <td>78</td>\n      <td>44</td>\n      <td>66</td>\n      <td>71</td>\n      <td>67</td>\n    </tr>\n  </tbody>\n</table>\n</div>"
     },
     "execution_count": 27,
     "metadata": {},
     "output_type": "execute_result"
    }
   ],
   "source": [
    "data.head(3)"
   ],
   "metadata": {
    "collapsed": false,
    "pycharm": {
     "name": "#%%\n"
    }
   }
  },
  {
   "cell_type": "code",
   "execution_count": 28,
   "outputs": [
    {
     "data": {
      "text/plain": "      语文  数学  英语  政治  体育\nstu5  70  54  67  56  48\nstu6  44  62  49  45  91\nstu7  58  96  92  46  89\nstu8  97  95  48  42  92\nstu9  53  42  76  82  61",
      "text/html": "<div>\n<style scoped>\n    .dataframe tbody tr th:only-of-type {\n        vertical-align: middle;\n    }\n\n    .dataframe tbody tr th {\n        vertical-align: top;\n    }\n\n    .dataframe thead th {\n        text-align: right;\n    }\n</style>\n<table border=\"1\" class=\"dataframe\">\n  <thead>\n    <tr style=\"text-align: right;\">\n      <th></th>\n      <th>语文</th>\n      <th>数学</th>\n      <th>英语</th>\n      <th>政治</th>\n      <th>体育</th>\n    </tr>\n  </thead>\n  <tbody>\n    <tr>\n      <th>stu5</th>\n      <td>70</td>\n      <td>54</td>\n      <td>67</td>\n      <td>56</td>\n      <td>48</td>\n    </tr>\n    <tr>\n      <th>stu6</th>\n      <td>44</td>\n      <td>62</td>\n      <td>49</td>\n      <td>45</td>\n      <td>91</td>\n    </tr>\n    <tr>\n      <th>stu7</th>\n      <td>58</td>\n      <td>96</td>\n      <td>92</td>\n      <td>46</td>\n      <td>89</td>\n    </tr>\n    <tr>\n      <th>stu8</th>\n      <td>97</td>\n      <td>95</td>\n      <td>48</td>\n      <td>42</td>\n      <td>92</td>\n    </tr>\n    <tr>\n      <th>stu9</th>\n      <td>53</td>\n      <td>42</td>\n      <td>76</td>\n      <td>82</td>\n      <td>61</td>\n    </tr>\n  </tbody>\n</table>\n</div>"
     },
     "execution_count": 28,
     "metadata": {},
     "output_type": "execute_result"
    }
   ],
   "source": [
    "data.tail()"
   ],
   "metadata": {
    "collapsed": false,
    "pycharm": {
     "name": "#%%\n"
    }
   }
  },
  {
   "cell_type": "code",
   "execution_count": 29,
   "outputs": [
    {
     "data": {
      "text/plain": "      语文  数学  英语  政治  体育\nstu8  97  95  48  42  92\nstu9  53  42  76  82  61",
      "text/html": "<div>\n<style scoped>\n    .dataframe tbody tr th:only-of-type {\n        vertical-align: middle;\n    }\n\n    .dataframe tbody tr th {\n        vertical-align: top;\n    }\n\n    .dataframe thead th {\n        text-align: right;\n    }\n</style>\n<table border=\"1\" class=\"dataframe\">\n  <thead>\n    <tr style=\"text-align: right;\">\n      <th></th>\n      <th>语文</th>\n      <th>数学</th>\n      <th>英语</th>\n      <th>政治</th>\n      <th>体育</th>\n    </tr>\n  </thead>\n  <tbody>\n    <tr>\n      <th>stu8</th>\n      <td>97</td>\n      <td>95</td>\n      <td>48</td>\n      <td>42</td>\n      <td>92</td>\n    </tr>\n    <tr>\n      <th>stu9</th>\n      <td>53</td>\n      <td>42</td>\n      <td>76</td>\n      <td>82</td>\n      <td>61</td>\n    </tr>\n  </tbody>\n</table>\n</div>"
     },
     "execution_count": 29,
     "metadata": {},
     "output_type": "execute_result"
    }
   ],
   "source": [
    "data.tail(2)"
   ],
   "metadata": {
    "collapsed": false,
    "pycharm": {
     "name": "#%%\n"
    }
   }
  },
  {
   "cell_type": "markdown",
   "source": [
    "## 2.3 DataFrame索引值的设置"
   ],
   "metadata": {
    "collapsed": false
   }
  },
  {
   "cell_type": "code",
   "execution_count": 30,
   "outputs": [],
   "source": [
    "stu = [\"stu_\"+str(i) for i in range(score_df.shape[0])]"
   ],
   "metadata": {
    "collapsed": false,
    "pycharm": {
     "name": "#%%\n"
    }
   }
  },
  {
   "cell_type": "code",
   "execution_count": 31,
   "outputs": [
    {
     "data": {
      "text/plain": "['stu_0',\n 'stu_1',\n 'stu_2',\n 'stu_3',\n 'stu_4',\n 'stu_5',\n 'stu_6',\n 'stu_7',\n 'stu_8',\n 'stu_9']"
     },
     "execution_count": 31,
     "metadata": {},
     "output_type": "execute_result"
    }
   ],
   "source": [
    "stu"
   ],
   "metadata": {
    "collapsed": false,
    "pycharm": {
     "name": "#%%\n"
    }
   }
  },
  {
   "cell_type": "code",
   "execution_count": 32,
   "outputs": [],
   "source": [
    "data.index = stu"
   ],
   "metadata": {
    "collapsed": false,
    "pycharm": {
     "name": "#%%\n"
    }
   }
  },
  {
   "cell_type": "code",
   "execution_count": 33,
   "outputs": [
    {
     "data": {
      "text/plain": "       语文  数学  英语  政治  体育\nstu_0  61  80  87  53  42\nstu_1  56  80  62  84  74\nstu_2  78  44  66  71  67\nstu_3  77  47  41  89  80\nstu_4  42  62  96  63  63\nstu_5  70  54  67  56  48\nstu_6  44  62  49  45  91\nstu_7  58  96  92  46  89\nstu_8  97  95  48  42  92\nstu_9  53  42  76  82  61",
      "text/html": "<div>\n<style scoped>\n    .dataframe tbody tr th:only-of-type {\n        vertical-align: middle;\n    }\n\n    .dataframe tbody tr th {\n        vertical-align: top;\n    }\n\n    .dataframe thead th {\n        text-align: right;\n    }\n</style>\n<table border=\"1\" class=\"dataframe\">\n  <thead>\n    <tr style=\"text-align: right;\">\n      <th></th>\n      <th>语文</th>\n      <th>数学</th>\n      <th>英语</th>\n      <th>政治</th>\n      <th>体育</th>\n    </tr>\n  </thead>\n  <tbody>\n    <tr>\n      <th>stu_0</th>\n      <td>61</td>\n      <td>80</td>\n      <td>87</td>\n      <td>53</td>\n      <td>42</td>\n    </tr>\n    <tr>\n      <th>stu_1</th>\n      <td>56</td>\n      <td>80</td>\n      <td>62</td>\n      <td>84</td>\n      <td>74</td>\n    </tr>\n    <tr>\n      <th>stu_2</th>\n      <td>78</td>\n      <td>44</td>\n      <td>66</td>\n      <td>71</td>\n      <td>67</td>\n    </tr>\n    <tr>\n      <th>stu_3</th>\n      <td>77</td>\n      <td>47</td>\n      <td>41</td>\n      <td>89</td>\n      <td>80</td>\n    </tr>\n    <tr>\n      <th>stu_4</th>\n      <td>42</td>\n      <td>62</td>\n      <td>96</td>\n      <td>63</td>\n      <td>63</td>\n    </tr>\n    <tr>\n      <th>stu_5</th>\n      <td>70</td>\n      <td>54</td>\n      <td>67</td>\n      <td>56</td>\n      <td>48</td>\n    </tr>\n    <tr>\n      <th>stu_6</th>\n      <td>44</td>\n      <td>62</td>\n      <td>49</td>\n      <td>45</td>\n      <td>91</td>\n    </tr>\n    <tr>\n      <th>stu_7</th>\n      <td>58</td>\n      <td>96</td>\n      <td>92</td>\n      <td>46</td>\n      <td>89</td>\n    </tr>\n    <tr>\n      <th>stu_8</th>\n      <td>97</td>\n      <td>95</td>\n      <td>48</td>\n      <td>42</td>\n      <td>92</td>\n    </tr>\n    <tr>\n      <th>stu_9</th>\n      <td>53</td>\n      <td>42</td>\n      <td>76</td>\n      <td>82</td>\n      <td>61</td>\n    </tr>\n  </tbody>\n</table>\n</div>"
     },
     "execution_count": 33,
     "metadata": {},
     "output_type": "execute_result"
    }
   ],
   "source": [
    "data"
   ],
   "metadata": {
    "collapsed": false,
    "pycharm": {
     "name": "#%%\n"
    }
   }
  },
  {
   "cell_type": "code",
   "execution_count": 34,
   "outputs": [],
   "source": [
    "# data.index[2] = \"tongxue\""
   ],
   "metadata": {
    "collapsed": false,
    "pycharm": {
     "name": "#%%\n"
    }
   }
  },
  {
   "cell_type": "code",
   "execution_count": 35,
   "outputs": [
    {
     "data": {
      "text/plain": "   index  语文  数学  英语  政治  体育\n0  stu_0  61  80  87  53  42\n1  stu_1  56  80  62  84  74\n2  stu_2  78  44  66  71  67\n3  stu_3  77  47  41  89  80\n4  stu_4  42  62  96  63  63\n5  stu_5  70  54  67  56  48\n6  stu_6  44  62  49  45  91\n7  stu_7  58  96  92  46  89\n8  stu_8  97  95  48  42  92\n9  stu_9  53  42  76  82  61",
      "text/html": "<div>\n<style scoped>\n    .dataframe tbody tr th:only-of-type {\n        vertical-align: middle;\n    }\n\n    .dataframe tbody tr th {\n        vertical-align: top;\n    }\n\n    .dataframe thead th {\n        text-align: right;\n    }\n</style>\n<table border=\"1\" class=\"dataframe\">\n  <thead>\n    <tr style=\"text-align: right;\">\n      <th></th>\n      <th>index</th>\n      <th>语文</th>\n      <th>数学</th>\n      <th>英语</th>\n      <th>政治</th>\n      <th>体育</th>\n    </tr>\n  </thead>\n  <tbody>\n    <tr>\n      <th>0</th>\n      <td>stu_0</td>\n      <td>61</td>\n      <td>80</td>\n      <td>87</td>\n      <td>53</td>\n      <td>42</td>\n    </tr>\n    <tr>\n      <th>1</th>\n      <td>stu_1</td>\n      <td>56</td>\n      <td>80</td>\n      <td>62</td>\n      <td>84</td>\n      <td>74</td>\n    </tr>\n    <tr>\n      <th>2</th>\n      <td>stu_2</td>\n      <td>78</td>\n      <td>44</td>\n      <td>66</td>\n      <td>71</td>\n      <td>67</td>\n    </tr>\n    <tr>\n      <th>3</th>\n      <td>stu_3</td>\n      <td>77</td>\n      <td>47</td>\n      <td>41</td>\n      <td>89</td>\n      <td>80</td>\n    </tr>\n    <tr>\n      <th>4</th>\n      <td>stu_4</td>\n      <td>42</td>\n      <td>62</td>\n      <td>96</td>\n      <td>63</td>\n      <td>63</td>\n    </tr>\n    <tr>\n      <th>5</th>\n      <td>stu_5</td>\n      <td>70</td>\n      <td>54</td>\n      <td>67</td>\n      <td>56</td>\n      <td>48</td>\n    </tr>\n    <tr>\n      <th>6</th>\n      <td>stu_6</td>\n      <td>44</td>\n      <td>62</td>\n      <td>49</td>\n      <td>45</td>\n      <td>91</td>\n    </tr>\n    <tr>\n      <th>7</th>\n      <td>stu_7</td>\n      <td>58</td>\n      <td>96</td>\n      <td>92</td>\n      <td>46</td>\n      <td>89</td>\n    </tr>\n    <tr>\n      <th>8</th>\n      <td>stu_8</td>\n      <td>97</td>\n      <td>95</td>\n      <td>48</td>\n      <td>42</td>\n      <td>92</td>\n    </tr>\n    <tr>\n      <th>9</th>\n      <td>stu_9</td>\n      <td>53</td>\n      <td>42</td>\n      <td>76</td>\n      <td>82</td>\n      <td>61</td>\n    </tr>\n  </tbody>\n</table>\n</div>"
     },
     "execution_count": 35,
     "metadata": {},
     "output_type": "execute_result"
    }
   ],
   "source": [
    "data.reset_index()"
   ],
   "metadata": {
    "collapsed": false,
    "pycharm": {
     "name": "#%%\n"
    }
   }
  },
  {
   "cell_type": "code",
   "execution_count": 36,
   "outputs": [
    {
     "data": {
      "text/plain": "   语文  数学  英语  政治  体育\n0  61  80  87  53  42\n1  56  80  62  84  74\n2  78  44  66  71  67\n3  77  47  41  89  80\n4  42  62  96  63  63\n5  70  54  67  56  48\n6  44  62  49  45  91\n7  58  96  92  46  89\n8  97  95  48  42  92\n9  53  42  76  82  61",
      "text/html": "<div>\n<style scoped>\n    .dataframe tbody tr th:only-of-type {\n        vertical-align: middle;\n    }\n\n    .dataframe tbody tr th {\n        vertical-align: top;\n    }\n\n    .dataframe thead th {\n        text-align: right;\n    }\n</style>\n<table border=\"1\" class=\"dataframe\">\n  <thead>\n    <tr style=\"text-align: right;\">\n      <th></th>\n      <th>语文</th>\n      <th>数学</th>\n      <th>英语</th>\n      <th>政治</th>\n      <th>体育</th>\n    </tr>\n  </thead>\n  <tbody>\n    <tr>\n      <th>0</th>\n      <td>61</td>\n      <td>80</td>\n      <td>87</td>\n      <td>53</td>\n      <td>42</td>\n    </tr>\n    <tr>\n      <th>1</th>\n      <td>56</td>\n      <td>80</td>\n      <td>62</td>\n      <td>84</td>\n      <td>74</td>\n    </tr>\n    <tr>\n      <th>2</th>\n      <td>78</td>\n      <td>44</td>\n      <td>66</td>\n      <td>71</td>\n      <td>67</td>\n    </tr>\n    <tr>\n      <th>3</th>\n      <td>77</td>\n      <td>47</td>\n      <td>41</td>\n      <td>89</td>\n      <td>80</td>\n    </tr>\n    <tr>\n      <th>4</th>\n      <td>42</td>\n      <td>62</td>\n      <td>96</td>\n      <td>63</td>\n      <td>63</td>\n    </tr>\n    <tr>\n      <th>5</th>\n      <td>70</td>\n      <td>54</td>\n      <td>67</td>\n      <td>56</td>\n      <td>48</td>\n    </tr>\n    <tr>\n      <th>6</th>\n      <td>44</td>\n      <td>62</td>\n      <td>49</td>\n      <td>45</td>\n      <td>91</td>\n    </tr>\n    <tr>\n      <th>7</th>\n      <td>58</td>\n      <td>96</td>\n      <td>92</td>\n      <td>46</td>\n      <td>89</td>\n    </tr>\n    <tr>\n      <th>8</th>\n      <td>97</td>\n      <td>95</td>\n      <td>48</td>\n      <td>42</td>\n      <td>92</td>\n    </tr>\n    <tr>\n      <th>9</th>\n      <td>53</td>\n      <td>42</td>\n      <td>76</td>\n      <td>82</td>\n      <td>61</td>\n    </tr>\n  </tbody>\n</table>\n</div>"
     },
     "execution_count": 36,
     "metadata": {},
     "output_type": "execute_result"
    }
   ],
   "source": [
    "data.reset_index(drop=True)"
   ],
   "metadata": {
    "collapsed": false,
    "pycharm": {
     "name": "#%%\n"
    }
   }
  },
  {
   "cell_type": "code",
   "execution_count": 37,
   "outputs": [],
   "source": [
    "df = pd.DataFrame({'month': [1, 4, 7, 10],\n",
    "'year': [2012, 2014, 2013, 2014],\n",
    "'sale':[55, 40, 84, 31]})"
   ],
   "metadata": {
    "collapsed": false,
    "pycharm": {
     "name": "#%%\n"
    }
   }
  },
  {
   "cell_type": "code",
   "execution_count": 38,
   "outputs": [
    {
     "data": {
      "text/plain": "   month  year  sale\n0      1  2012    55\n1      4  2014    40\n2      7  2013    84\n3     10  2014    31",
      "text/html": "<div>\n<style scoped>\n    .dataframe tbody tr th:only-of-type {\n        vertical-align: middle;\n    }\n\n    .dataframe tbody tr th {\n        vertical-align: top;\n    }\n\n    .dataframe thead th {\n        text-align: right;\n    }\n</style>\n<table border=\"1\" class=\"dataframe\">\n  <thead>\n    <tr style=\"text-align: right;\">\n      <th></th>\n      <th>month</th>\n      <th>year</th>\n      <th>sale</th>\n    </tr>\n  </thead>\n  <tbody>\n    <tr>\n      <th>0</th>\n      <td>1</td>\n      <td>2012</td>\n      <td>55</td>\n    </tr>\n    <tr>\n      <th>1</th>\n      <td>4</td>\n      <td>2014</td>\n      <td>40</td>\n    </tr>\n    <tr>\n      <th>2</th>\n      <td>7</td>\n      <td>2013</td>\n      <td>84</td>\n    </tr>\n    <tr>\n      <th>3</th>\n      <td>10</td>\n      <td>2014</td>\n      <td>31</td>\n    </tr>\n  </tbody>\n</table>\n</div>"
     },
     "execution_count": 38,
     "metadata": {},
     "output_type": "execute_result"
    }
   ],
   "source": [
    "df"
   ],
   "metadata": {
    "collapsed": false,
    "pycharm": {
     "name": "#%%\n"
    }
   }
  },
  {
   "cell_type": "code",
   "execution_count": 39,
   "outputs": [
    {
     "data": {
      "text/plain": "      month  sale\nyear             \n2012      1    55\n2014      4    40\n2013      7    84\n2014     10    31",
      "text/html": "<div>\n<style scoped>\n    .dataframe tbody tr th:only-of-type {\n        vertical-align: middle;\n    }\n\n    .dataframe tbody tr th {\n        vertical-align: top;\n    }\n\n    .dataframe thead th {\n        text-align: right;\n    }\n</style>\n<table border=\"1\" class=\"dataframe\">\n  <thead>\n    <tr style=\"text-align: right;\">\n      <th></th>\n      <th>month</th>\n      <th>sale</th>\n    </tr>\n    <tr>\n      <th>year</th>\n      <th></th>\n      <th></th>\n    </tr>\n  </thead>\n  <tbody>\n    <tr>\n      <th>2012</th>\n      <td>1</td>\n      <td>55</td>\n    </tr>\n    <tr>\n      <th>2014</th>\n      <td>4</td>\n      <td>40</td>\n    </tr>\n    <tr>\n      <th>2013</th>\n      <td>7</td>\n      <td>84</td>\n    </tr>\n    <tr>\n      <th>2014</th>\n      <td>10</td>\n      <td>31</td>\n    </tr>\n  </tbody>\n</table>\n</div>"
     },
     "execution_count": 39,
     "metadata": {},
     "output_type": "execute_result"
    }
   ],
   "source": [
    "df.set_index(\"year\")"
   ],
   "metadata": {
    "collapsed": false,
    "pycharm": {
     "name": "#%%\n"
    }
   }
  },
  {
   "cell_type": "code",
   "execution_count": 43,
   "outputs": [],
   "source": [
    "df = df.set_index([\"year\",\"month\"])"
   ],
   "metadata": {
    "collapsed": false,
    "pycharm": {
     "name": "#%%\n"
    }
   }
  },
  {
   "cell_type": "markdown",
   "source": [
    "# 3 MutiIndex与Panel\n",
    "## 3.1 MutiIndex"
   ],
   "metadata": {
    "collapsed": false,
    "pycharm": {
     "name": "#%% md\n"
    }
   }
  },
  {
   "cell_type": "code",
   "execution_count": 44,
   "outputs": [
    {
     "data": {
      "text/plain": "            sale\nyear month      \n2012 1        55\n2014 4        40\n2013 7        84\n2014 10       31",
      "text/html": "<div>\n<style scoped>\n    .dataframe tbody tr th:only-of-type {\n        vertical-align: middle;\n    }\n\n    .dataframe tbody tr th {\n        vertical-align: top;\n    }\n\n    .dataframe thead th {\n        text-align: right;\n    }\n</style>\n<table border=\"1\" class=\"dataframe\">\n  <thead>\n    <tr style=\"text-align: right;\">\n      <th></th>\n      <th></th>\n      <th>sale</th>\n    </tr>\n    <tr>\n      <th>year</th>\n      <th>month</th>\n      <th></th>\n    </tr>\n  </thead>\n  <tbody>\n    <tr>\n      <th>2012</th>\n      <th>1</th>\n      <td>55</td>\n    </tr>\n    <tr>\n      <th>2014</th>\n      <th>4</th>\n      <td>40</td>\n    </tr>\n    <tr>\n      <th>2013</th>\n      <th>7</th>\n      <td>84</td>\n    </tr>\n    <tr>\n      <th>2014</th>\n      <th>10</th>\n      <td>31</td>\n    </tr>\n  </tbody>\n</table>\n</div>"
     },
     "execution_count": 44,
     "metadata": {},
     "output_type": "execute_result"
    }
   ],
   "source": [
    "df"
   ],
   "metadata": {
    "collapsed": false,
    "pycharm": {
     "name": "#%%\n"
    }
   }
  },
  {
   "cell_type": "code",
   "execution_count": 45,
   "outputs": [
    {
     "data": {
      "text/plain": "MultiIndex([(2012,  1),\n            (2014,  4),\n            (2013,  7),\n            (2014, 10)],\n           names=['year', 'month'])"
     },
     "execution_count": 45,
     "metadata": {},
     "output_type": "execute_result"
    }
   ],
   "source": [
    "df.index"
   ],
   "metadata": {
    "collapsed": false,
    "pycharm": {
     "name": "#%%\n"
    }
   }
  },
  {
   "cell_type": "code",
   "execution_count": 46,
   "outputs": [
    {
     "data": {
      "text/plain": "FrozenList(['year', 'month'])"
     },
     "execution_count": 46,
     "metadata": {},
     "output_type": "execute_result"
    }
   ],
   "source": [
    "df.index.names"
   ],
   "metadata": {
    "collapsed": false,
    "pycharm": {
     "name": "#%%\n"
    }
   }
  },
  {
   "cell_type": "code",
   "execution_count": 47,
   "outputs": [
    {
     "data": {
      "text/plain": "FrozenList([[2012, 2013, 2014], [1, 4, 7, 10]])"
     },
     "execution_count": 47,
     "metadata": {},
     "output_type": "execute_result"
    }
   ],
   "source": [
    "df.index.levels"
   ],
   "metadata": {
    "collapsed": false,
    "pycharm": {
     "name": "#%%\n"
    }
   }
  },
  {
   "cell_type": "code",
   "execution_count": 48,
   "outputs": [
    {
     "data": {
      "text/plain": "MultiIndex([(1, 'r'),\n            (2, 'b'),\n            (1, 'r'),\n            (2, 'b')],\n           names=['num', 'col'])"
     },
     "execution_count": 48,
     "metadata": {},
     "output_type": "execute_result"
    }
   ],
   "source": [
    "arrays = [[1,2,1,2],[\"r\",\"b\",\"r\",\"b\"]]\n",
    "pd.MultiIndex.from_arrays(arrays,names=(\"num\",\"col\"))"
   ],
   "metadata": {
    "collapsed": false,
    "pycharm": {
     "name": "#%%\n"
    }
   }
  },
  {
   "cell_type": "markdown",
   "source": [
    "## 3.2 panel"
   ],
   "metadata": {
    "collapsed": false,
    "pycharm": {
     "name": "#%% md\n"
    }
   }
  },
  {
   "cell_type": "code",
   "execution_count": 53,
   "outputs": [
    {
     "name": "stderr",
     "output_type": "stream",
     "text": [
      "<ipython-input-53-daf59da11ead>:1: FutureWarning: The Panel class is removed from pandas. Accessing it from the top-level namespace will also be removed in the next version\n",
      "  p = pd.Panel(data=np.arange(24).reshape(4,3,2),\n"
     ]
    },
    {
     "ename": "TypeError",
     "evalue": "Panel() takes no arguments",
     "output_type": "error",
     "traceback": [
      "\u001B[1;31m---------------------------------------------------------------------------\u001B[0m",
      "\u001B[1;31mTypeError\u001B[0m                                 Traceback (most recent call last)",
      "\u001B[1;32m<ipython-input-53-daf59da11ead>\u001B[0m in \u001B[0;36m<module>\u001B[1;34m\u001B[0m\n\u001B[1;32m----> 1\u001B[1;33m p = pd.Panel(data=np.arange(24).reshape(4,3,2),\n\u001B[0m\u001B[0;32m      2\u001B[0m \u001B[0mitems\u001B[0m\u001B[1;33m=\u001B[0m\u001B[0mlist\u001B[0m\u001B[1;33m(\u001B[0m\u001B[1;34m'ABCD'\u001B[0m\u001B[1;33m)\u001B[0m\u001B[1;33m,\u001B[0m\u001B[1;33m\u001B[0m\u001B[1;33m\u001B[0m\u001B[0m\n\u001B[0;32m      3\u001B[0m \u001B[0mmajor_axis\u001B[0m\u001B[1;33m=\u001B[0m\u001B[0mpd\u001B[0m\u001B[1;33m.\u001B[0m\u001B[0mdate_range\u001B[0m\u001B[1;33m(\u001B[0m\u001B[1;34m'20130101'\u001B[0m\u001B[1;33m,\u001B[0m \u001B[0mperiods\u001B[0m\u001B[1;33m=\u001B[0m\u001B[1;36m3\u001B[0m\u001B[1;33m)\u001B[0m\u001B[1;33m,\u001B[0m\u001B[1;33m\u001B[0m\u001B[1;33m\u001B[0m\u001B[0m\n\u001B[0;32m      4\u001B[0m minor_axis=['first', 'second'])\n\u001B[0;32m      5\u001B[0m \u001B[1;33m\u001B[0m\u001B[0m\n",
      "\u001B[1;31mTypeError\u001B[0m: Panel() takes no arguments"
     ]
    }
   ],
   "source": [
    "p = pd.Panel(data=np.arange(24).reshape(4,3,2),\n",
    "items=list('ABCD'),\n",
    "major_axis=pd.date_range('20130101', periods=3),\n",
    "minor_axis=['first', 'second'])"
   ],
   "metadata": {
    "collapsed": false,
    "pycharm": {
     "name": "#%%\n"
    }
   }
  },
  {
   "cell_type": "code",
   "execution_count": null,
   "outputs": [],
   "source": [
    "\n"
   ],
   "metadata": {
    "collapsed": false,
    "pycharm": {
     "name": "#%%\n"
    }
   }
  }
 ],
 "metadata": {
  "kernelspec": {
   "name": "python3",
   "language": "python",
   "display_name": "Python 3"
  },
  "language_info": {
   "codemirror_mode": {
    "name": "ipython",
    "version": 2
   },
   "file_extension": ".py",
   "mimetype": "text/x-python",
   "name": "python",
   "nbconvert_exporter": "python",
   "pygments_lexer": "ipython2",
   "version": "2.7.6"
  }
 },
 "nbformat": 4,
 "nbformat_minor": 0
}